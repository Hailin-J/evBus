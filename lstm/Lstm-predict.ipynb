{
 "cells": [
  {
   "cell_type": "code",
   "execution_count": 2,
   "metadata": {},
   "outputs": [
    {
     "data": {
      "image/png": "[encoded data removed]",
      "text/plain": [
       "<Figure size 432x288 with 1 Axes>"
      ]
     },
     "metadata": {
      "needs_background": "light"
     },
     "output_type": "display_data"
    },
    {
     "name": "stdout",
     "output_type": "stream",
     "text": [
      "         lat         lng\n",
      "0  35.456029  139.611249\n",
      "1  35.456029  139.611249\n",
      "2  35.456029  139.611249\n",
      "3  35.456029  139.611249\n",
      "4  35.456029  139.611249\n"
     ]
    }
   ],
   "source": [
    "import numpy\n",
    "import matplotlib.pyplot as plt\n",
    "import pandas\n",
    "import math\n",
    "from keras.models import Sequential\n",
    "from keras.layers import Dense\n",
    "from keras.layers import LSTM\n",
    "from keras.layers import RepeatVector\n",
    "from keras.layers import TimeDistributed\n",
    "from keras.layers import Flatten\n",
    "\n",
    "from sklearn.preprocessing import MinMaxScaler\n",
    "from sklearn.metrics import mean_squared_error\n",
    "\n",
    "#データ読み込み\n",
    "dataframe = pandas.read_csv('C:/Users/kinkr/OneDrive/ドキュメント/熊大関連/尼崎研/EV-Bus/evBus-main/evBus-main/1589.csv', usecols=[1,2], engine='python', skipfooter=1)\n",
    "plt.plot(dataframe)\n",
    "plt.show()\n",
    "print(dataframe.head())"
   ]
  },
  {
   "cell_type": "code",
   "execution_count": 4,
   "metadata": {},
   "outputs": [
    {
     "name": "stdout",
     "output_type": "stream",
     "text": [
      "41626 20503\n"
     ]
    }
   ],
   "source": [
    "dataset = dataframe.values\n",
    "dataset = dataset.astype('float32')\n",
    "dataset_real = dataset[24270:]\n",
    "# normalize the dataset\n",
    "scaler = MinMaxScaler(feature_range=(0, 1))\n",
    "dataset_real = scaler.fit_transform(dataset_real)\n",
    "\n",
    "# split into train and test sets\n",
    "train_size = int(len(dataset_real) * 0.67)\n",
    "test_size = len(dataset_real) - train_size\n",
    "train, test = dataset_real[0:train_size,:], dataset_real[train_size:len(dataset_real),:]\n",
    "print(len(train), len(test))"
   ]
  },
  {
   "cell_type": "code",
   "execution_count": 5,
   "metadata": {
    "scrolled": true
   },
   "outputs": [
    {
     "name": "stdout",
     "output_type": "stream",
     "text": [
      "(41550, 2, 60)\n",
      "[[0.8045044  0.80303955 0.80163574 0.8001709  0.79870605 0.7972412\n",
      "  0.79577637 0.79437256 0.7929077  0.7915039  0.789917   0.78845215\n",
      "  0.7869873  0.7855835  0.7843628  0.78338623 0.7822876  0.7810669\n",
      "  0.77978516 0.77856445 0.7774658  0.7764282  0.7751465  0.77368164\n",
      "  0.7720947  0.7706299  0.76916504 0.76763916 0.7661743  0.7645874\n",
      "  0.76312256 0.7617798  0.760437   0.7593384  0.7585449  0.7578125\n",
      "  0.7575073  0.75738525 0.75738525 0.75738525 0.75738525 0.75738525\n",
      "  0.75738525 0.75738525 0.75738525 0.75738525 0.75738525 0.7573242\n",
      "  0.75701904 0.7565918  0.7559204  0.755188   0.75439453 0.75354004\n",
      "  0.7526245  0.7515259  0.7501831  0.74890137 0.7474365  0.7459717 ]\n",
      " [0.44555664 0.44543457 0.4453125  0.44506836 0.4449463  0.44482422\n",
      "  0.44458008 0.44433594 0.44421387 0.44396973 0.4437256  0.44348145\n",
      "  0.44299316 0.44274902 0.4423828  0.44213867 0.44177246 0.4416504\n",
      "  0.44189453 0.44250488 0.44274902 0.44299316 0.44348145 0.44384766\n",
      "  0.44433594 0.44482422 0.44519043 0.44580078 0.446167   0.4465332\n",
      "  0.44702148 0.4473877  0.4477539  0.44812012 0.44848633 0.4486084\n",
      "  0.44873047 0.44873047 0.44873047 0.44873047 0.44873047 0.44873047\n",
      "  0.44873047 0.44873047 0.44873047 0.44873047 0.44873047 0.44873047\n",
      "  0.44873047 0.44885254 0.4489746  0.44921875 0.44958496 0.44970703\n",
      "  0.45007324 0.45031738 0.45080566 0.45117188 0.4515381  0.45202637]]\n",
      "(41550, 2, 15)\n",
      "[[0.7459717  0.74468994 0.743103   0.7414551  0.7397461  0.7380371\n",
      "  0.7362671  0.7344971  0.7328491  0.73101807 0.729126   0.7272339\n",
      "  0.72528076 0.72320557 0.7213135 ]\n",
      " [0.45202637 0.45239258 0.45288086 0.45336914 0.45373535 0.45422363\n",
      "  0.45483398 0.45532227 0.45593262 0.4564209  0.45703125 0.45751953\n",
      "  0.4580078  0.45874023 0.45922852]]\n"
     ]
    }
   ],
   "source": [
    "\n",
    "print(trainX.shape)\n",
    "print(trainX[7001])\n",
    "\n",
    "print(trainY.shape)\n",
    "print(trainY[7000])"
   ]
  },
  {
   "cell_type": "code",
   "execution_count": 6,
   "metadata": {},
   "outputs": [],
   "source": [
    "trainX_trans = trainX.transpose((0, 2, 1))\n",
    "trainY_trans = trainY.transpose((0, 2, 1))\n",
    "testX_trans = testX.transpose((0, 2, 1))\n",
    "testY_trans = testY.transpose((0, 2, 1))"
   ]
  },
  {
   "cell_type": "code",
   "execution_count": 8,
   "metadata": {
    "scrolled": true
   },
   "outputs": [
    {
     "name": "stdout",
     "output_type": "stream",
     "text": [
      "(41550, 60, 2)\n",
      "(41550, 15, 2)\n",
      "(20427, 60, 2)\n",
      "(20427, 15, 2)\n",
      "[[0.77734375 0.3031006 ]\n",
      " [0.77734375 0.3031006 ]\n",
      " [0.77734375 0.3031006 ]\n",
      " [0.77734375 0.3031006 ]\n",
      " [0.77734375 0.3031006 ]\n",
      " [0.77734375 0.3031006 ]\n",
      " [0.77734375 0.3031006 ]\n",
      " [0.77734375 0.3031006 ]\n",
      " [0.77734375 0.3031006 ]\n",
      " [0.77734375 0.3031006 ]\n",
      " [0.77734375 0.3031006 ]\n",
      " [0.7774658  0.3031006 ]\n",
      " [0.7776489  0.30322266]\n",
      " [0.77770996 0.30322266]\n",
      " [0.77789307 0.30322266]\n",
      " [0.77801514 0.30322266]\n",
      " [0.7782593  0.30334473]\n",
      " [0.7786865  0.3034668 ]\n",
      " [0.77923584 0.30358887]\n",
      " [0.7796631  0.30358887]\n",
      " [0.78015137 0.30371094]\n",
      " [0.7805786  0.30395508]\n",
      " [0.7810669  0.30419922]\n",
      " [0.7811279  0.3046875 ]\n",
      " [0.7810669  0.30493164]\n",
      " [0.7808838  0.30517578]\n",
      " [0.7803955  0.30541992]\n",
      " [0.7800293  0.30578613]\n",
      " [0.77960205 0.3059082 ]\n",
      " [0.77874756 0.30603027]\n",
      " [0.77789307 0.30603027]\n",
      " [0.77716064 0.3059082 ]\n",
      " [0.7762451  0.3059082 ]\n",
      " [0.77545166 0.30578613]\n",
      " [0.77441406 0.30541992]\n",
      " [0.77368164 0.30517578]\n",
      " [0.77319336 0.30493164]\n",
      " [0.77301025 0.30444336]\n",
      " [0.77301025 0.303833  ]\n",
      " [0.77319336 0.30358887]\n",
      " [0.77337646 0.30334473]\n",
      " [0.7735596  0.3031006 ]\n",
      " [0.7737427  0.30273438]\n",
      " [0.77404785 0.30249023]\n",
      " [0.774292   0.3022461 ]\n",
      " [0.7744751  0.30212402]\n",
      " [0.77459717 0.30212402]\n",
      " [0.77459717 0.30200195]\n",
      " [0.7746582  0.30200195]\n",
      " [0.7747803  0.30200195]\n",
      " [0.7747803  0.30200195]\n",
      " [0.7747803  0.30200195]\n",
      " [0.7748413  0.30187988]\n",
      " [0.7748413  0.30187988]\n",
      " [0.7748413  0.30187988]\n",
      " [0.7748413  0.30187988]\n",
      " [0.7748413  0.30187988]\n",
      " [0.7748413  0.30187988]\n",
      " [0.7748413  0.30187988]\n",
      " [0.7748413  0.30187988]]\n"
     ]
    }
   ],
   "source": [
    "print(trainX_trans.shape)\n",
    "print(trainY_trans.shape)\n",
    "print(testX_trans.shape)\n",
    "print(testY_trans.shape)\n",
    "print(trainX_trans[0])"
   ]
  },
  {
   "cell_type": "code",
   "execution_count": 15,
   "metadata": {
    "scrolled": true
   },
   "outputs": [
    {
     "name": "stdout",
     "output_type": "stream",
     "text": [
      "Model: \"sequential_4\"\n",
      "_________________________________________________________________\n",
      "Layer (type)                 Output Shape              Param #   \n",
      "=================================================================\n",
      "lstm_7 (LSTM)                (None, 200)               162400    \n",
      "_________________________________________________________________\n",
      "repeat_vector_4 (RepeatVecto (None, 15, 200)           0         \n",
      "_________________________________________________________________\n",
      "lstm_8 (LSTM)                (None, 15, 200)           320800    \n",
      "_________________________________________________________________\n",
      "time_distributed_7 (TimeDist (None, 15, 100)           20100     \n",
      "_________________________________________________________________\n",
      "time_distributed_8 (TimeDist (None, 15, 2)             202       \n",
      "=================================================================\n",
      "Total params: 503,502\n",
      "Trainable params: 503,502\n",
      "Non-trainable params: 0\n",
      "_________________________________________________________________\n"
     ]
    }
   ],
   "source": [
    "# create and fit the LSTM network\n",
    "n_outtime = 15\n",
    "model = Sequential()\n",
    "model.add(LSTM(200, activation='relu', input_shape=(trainX_trans.shape[1], trainX_trans.shape[2])))\n",
    "model.add(RepeatVector(n_outtime))\n",
    "model.add(LSTM(200, activation='relu', return_sequences=True))\n",
    "model.add(TimeDistributed(Dense(100, activation='relu')))\n",
    "model.add(TimeDistributed(Dense(2)))\n",
    "model.compile(loss='mean_squared_error', optimizer='adam', metrics=['mae', 'mape'])\n",
    "model.summary()"
   ]
  },
  {
   "cell_type": "code",
   "execution_count": 16,
   "metadata": {},
   "outputs": [
    {
     "name": "stdout",
     "output_type": "stream",
     "text": [
      "Epoch 1/70\n",
      " 2288/41550 [>.............................] - ETA: 4:51 - loss: 0.0262 - mae: 0.0813 - mape: 56.9576"
     ]
    },
    {
     "ename": "KeyboardInterrupt",
     "evalue": "",
     "output_type": "error",
     "traceback": [
      "\u001b[1;31m---------------------------------------------------------------------------\u001b[0m",
      "\u001b[1;31mKeyboardInterrupt\u001b[0m                         Traceback (most recent call last)",
      "\u001b[1;32m<ipython-input-16-9e1232d76f9b>\u001b[0m in \u001b[0;36m<module>\u001b[1;34m\u001b[0m\n\u001b[1;32m----> 1\u001b[1;33m \u001b[0mmodel\u001b[0m\u001b[1;33m.\u001b[0m\u001b[0mfit\u001b[0m\u001b[1;33m(\u001b[0m\u001b[0mtrainX_trans\u001b[0m\u001b[1;33m,\u001b[0m \u001b[0mtrainY_trans\u001b[0m\u001b[1;33m,\u001b[0m \u001b[0mepochs\u001b[0m\u001b[1;33m=\u001b[0m\u001b[1;36m70\u001b[0m\u001b[1;33m,\u001b[0m \u001b[0mbatch_size\u001b[0m\u001b[1;33m=\u001b[0m\u001b[1;36m16\u001b[0m\u001b[1;33m)\u001b[0m\u001b[1;33m\u001b[0m\u001b[1;33m\u001b[0m\u001b[0m\n\u001b[0m",
      "\u001b[1;32mc:\\users\\kinkr\\anaconda3\\envs\\princess\\lib\\site-packages\\keras\\engine\\training.py\u001b[0m in \u001b[0;36mfit\u001b[1;34m(self, x, y, batch_size, epochs, verbose, callbacks, validation_split, validation_data, shuffle, class_weight, sample_weight, initial_epoch, steps_per_epoch, validation_steps, validation_freq, max_queue_size, workers, use_multiprocessing, **kwargs)\u001b[0m\n\u001b[0;32m   1237\u001b[0m                                         \u001b[0msteps_per_epoch\u001b[0m\u001b[1;33m=\u001b[0m\u001b[0msteps_per_epoch\u001b[0m\u001b[1;33m,\u001b[0m\u001b[1;33m\u001b[0m\u001b[1;33m\u001b[0m\u001b[0m\n\u001b[0;32m   1238\u001b[0m                                         \u001b[0mvalidation_steps\u001b[0m\u001b[1;33m=\u001b[0m\u001b[0mvalidation_steps\u001b[0m\u001b[1;33m,\u001b[0m\u001b[1;33m\u001b[0m\u001b[1;33m\u001b[0m\u001b[0m\n\u001b[1;32m-> 1239\u001b[1;33m                                         validation_freq=validation_freq)\n\u001b[0m\u001b[0;32m   1240\u001b[0m \u001b[1;33m\u001b[0m\u001b[0m\n\u001b[0;32m   1241\u001b[0m     def evaluate(self,\n",
      "\u001b[1;32mc:\\users\\kinkr\\anaconda3\\envs\\princess\\lib\\site-packages\\keras\\engine\\training_arrays.py\u001b[0m in \u001b[0;36mfit_loop\u001b[1;34m(model, fit_function, fit_inputs, out_labels, batch_size, epochs, verbose, callbacks, val_function, val_inputs, shuffle, initial_epoch, steps_per_epoch, validation_steps, validation_freq)\u001b[0m\n\u001b[0;32m    194\u001b[0m                     \u001b[0mins_batch\u001b[0m\u001b[1;33m[\u001b[0m\u001b[0mi\u001b[0m\u001b[1;33m]\u001b[0m \u001b[1;33m=\u001b[0m \u001b[0mins_batch\u001b[0m\u001b[1;33m[\u001b[0m\u001b[0mi\u001b[0m\u001b[1;33m]\u001b[0m\u001b[1;33m.\u001b[0m\u001b[0mtoarray\u001b[0m\u001b[1;33m(\u001b[0m\u001b[1;33m)\u001b[0m\u001b[1;33m\u001b[0m\u001b[1;33m\u001b[0m\u001b[0m\n\u001b[0;32m    195\u001b[0m \u001b[1;33m\u001b[0m\u001b[0m\n\u001b[1;32m--> 196\u001b[1;33m                 \u001b[0mouts\u001b[0m \u001b[1;33m=\u001b[0m \u001b[0mfit_function\u001b[0m\u001b[1;33m(\u001b[0m\u001b[0mins_batch\u001b[0m\u001b[1;33m)\u001b[0m\u001b[1;33m\u001b[0m\u001b[1;33m\u001b[0m\u001b[0m\n\u001b[0m\u001b[0;32m    197\u001b[0m                 \u001b[0mouts\u001b[0m \u001b[1;33m=\u001b[0m \u001b[0mto_list\u001b[0m\u001b[1;33m(\u001b[0m\u001b[0mouts\u001b[0m\u001b[1;33m)\u001b[0m\u001b[1;33m\u001b[0m\u001b[1;33m\u001b[0m\u001b[0m\n\u001b[0;32m    198\u001b[0m                 \u001b[1;32mfor\u001b[0m \u001b[0ml\u001b[0m\u001b[1;33m,\u001b[0m \u001b[0mo\u001b[0m \u001b[1;32min\u001b[0m \u001b[0mzip\u001b[0m\u001b[1;33m(\u001b[0m\u001b[0mout_labels\u001b[0m\u001b[1;33m,\u001b[0m \u001b[0mouts\u001b[0m\u001b[1;33m)\u001b[0m\u001b[1;33m:\u001b[0m\u001b[1;33m\u001b[0m\u001b[1;33m\u001b[0m\u001b[0m\n",
      "\u001b[1;32mc:\\users\\kinkr\\anaconda3\\envs\\princess\\lib\\site-packages\\tensorflow_core\\python\\keras\\backend.py\u001b[0m in \u001b[0;36m__call__\u001b[1;34m(self, inputs)\u001b[0m\n\u001b[0;32m   3725\u001b[0m         \u001b[0mvalue\u001b[0m \u001b[1;33m=\u001b[0m \u001b[0mmath_ops\u001b[0m\u001b[1;33m.\u001b[0m\u001b[0mcast\u001b[0m\u001b[1;33m(\u001b[0m\u001b[0mvalue\u001b[0m\u001b[1;33m,\u001b[0m \u001b[0mtensor\u001b[0m\u001b[1;33m.\u001b[0m\u001b[0mdtype\u001b[0m\u001b[1;33m)\u001b[0m\u001b[1;33m\u001b[0m\u001b[1;33m\u001b[0m\u001b[0m\n\u001b[0;32m   3726\u001b[0m       \u001b[0mconverted_inputs\u001b[0m\u001b[1;33m.\u001b[0m\u001b[0mappend\u001b[0m\u001b[1;33m(\u001b[0m\u001b[0mvalue\u001b[0m\u001b[1;33m)\u001b[0m\u001b[1;33m\u001b[0m\u001b[1;33m\u001b[0m\u001b[0m\n\u001b[1;32m-> 3727\u001b[1;33m     \u001b[0moutputs\u001b[0m \u001b[1;33m=\u001b[0m \u001b[0mself\u001b[0m\u001b[1;33m.\u001b[0m\u001b[0m_graph_fn\u001b[0m\u001b[1;33m(\u001b[0m\u001b[1;33m*\u001b[0m\u001b[0mconverted_inputs\u001b[0m\u001b[1;33m)\u001b[0m\u001b[1;33m\u001b[0m\u001b[1;33m\u001b[0m\u001b[0m\n\u001b[0m\u001b[0;32m   3728\u001b[0m \u001b[1;33m\u001b[0m\u001b[0m\n\u001b[0;32m   3729\u001b[0m     \u001b[1;31m# EagerTensor.numpy() will often make a copy to ensure memory safety.\u001b[0m\u001b[1;33m\u001b[0m\u001b[1;33m\u001b[0m\u001b[1;33m\u001b[0m\u001b[0m\n",
      "\u001b[1;32mc:\\users\\kinkr\\anaconda3\\envs\\princess\\lib\\site-packages\\tensorflow_core\\python\\eager\\function.py\u001b[0m in \u001b[0;36m__call__\u001b[1;34m(self, *args, **kwargs)\u001b[0m\n\u001b[0;32m   1549\u001b[0m       \u001b[0mTypeError\u001b[0m\u001b[1;33m:\u001b[0m \u001b[0mFor\u001b[0m \u001b[0minvalid\u001b[0m \u001b[0mpositional\u001b[0m\u001b[1;33m/\u001b[0m\u001b[0mkeyword\u001b[0m \u001b[0margument\u001b[0m \u001b[0mcombinations\u001b[0m\u001b[1;33m.\u001b[0m\u001b[1;33m\u001b[0m\u001b[1;33m\u001b[0m\u001b[0m\n\u001b[0;32m   1550\u001b[0m     \"\"\"\n\u001b[1;32m-> 1551\u001b[1;33m     \u001b[1;32mreturn\u001b[0m \u001b[0mself\u001b[0m\u001b[1;33m.\u001b[0m\u001b[0m_call_impl\u001b[0m\u001b[1;33m(\u001b[0m\u001b[0margs\u001b[0m\u001b[1;33m,\u001b[0m \u001b[0mkwargs\u001b[0m\u001b[1;33m)\u001b[0m\u001b[1;33m\u001b[0m\u001b[1;33m\u001b[0m\u001b[0m\n\u001b[0m\u001b[0;32m   1552\u001b[0m \u001b[1;33m\u001b[0m\u001b[0m\n\u001b[0;32m   1553\u001b[0m   \u001b[1;32mdef\u001b[0m \u001b[0m_call_impl\u001b[0m\u001b[1;33m(\u001b[0m\u001b[0mself\u001b[0m\u001b[1;33m,\u001b[0m \u001b[0margs\u001b[0m\u001b[1;33m,\u001b[0m \u001b[0mkwargs\u001b[0m\u001b[1;33m,\u001b[0m \u001b[0mcancellation_manager\u001b[0m\u001b[1;33m=\u001b[0m\u001b[1;32mNone\u001b[0m\u001b[1;33m)\u001b[0m\u001b[1;33m:\u001b[0m\u001b[1;33m\u001b[0m\u001b[1;33m\u001b[0m\u001b[0m\n",
      "\u001b[1;32mc:\\users\\kinkr\\anaconda3\\envs\\princess\\lib\\site-packages\\tensorflow_core\\python\\eager\\function.py\u001b[0m in \u001b[0;36m_call_impl\u001b[1;34m(self, args, kwargs, cancellation_manager)\u001b[0m\n\u001b[0;32m   1589\u001b[0m       raise TypeError(\"Keyword arguments {} unknown. Expected {}.\".format(\n\u001b[0;32m   1590\u001b[0m           list(kwargs.keys()), list(self._arg_keywords)))\n\u001b[1;32m-> 1591\u001b[1;33m     \u001b[1;32mreturn\u001b[0m \u001b[0mself\u001b[0m\u001b[1;33m.\u001b[0m\u001b[0m_call_flat\u001b[0m\u001b[1;33m(\u001b[0m\u001b[0margs\u001b[0m\u001b[1;33m,\u001b[0m \u001b[0mself\u001b[0m\u001b[1;33m.\u001b[0m\u001b[0mcaptured_inputs\u001b[0m\u001b[1;33m,\u001b[0m \u001b[0mcancellation_manager\u001b[0m\u001b[1;33m)\u001b[0m\u001b[1;33m\u001b[0m\u001b[1;33m\u001b[0m\u001b[0m\n\u001b[0m\u001b[0;32m   1592\u001b[0m \u001b[1;33m\u001b[0m\u001b[0m\n\u001b[0;32m   1593\u001b[0m   \u001b[1;32mdef\u001b[0m \u001b[0m_filtered_call\u001b[0m\u001b[1;33m(\u001b[0m\u001b[0mself\u001b[0m\u001b[1;33m,\u001b[0m \u001b[0margs\u001b[0m\u001b[1;33m,\u001b[0m \u001b[0mkwargs\u001b[0m\u001b[1;33m)\u001b[0m\u001b[1;33m:\u001b[0m\u001b[1;33m\u001b[0m\u001b[1;33m\u001b[0m\u001b[0m\n",
      "\u001b[1;32mc:\\users\\kinkr\\anaconda3\\envs\\princess\\lib\\site-packages\\tensorflow_core\\python\\eager\\function.py\u001b[0m in \u001b[0;36m_call_flat\u001b[1;34m(self, args, captured_inputs, cancellation_manager)\u001b[0m\n\u001b[0;32m   1690\u001b[0m       \u001b[1;31m# No tape is watching; skip to running the function.\u001b[0m\u001b[1;33m\u001b[0m\u001b[1;33m\u001b[0m\u001b[1;33m\u001b[0m\u001b[0m\n\u001b[0;32m   1691\u001b[0m       return self._build_call_outputs(self._inference_function.call(\n\u001b[1;32m-> 1692\u001b[1;33m           ctx, args, cancellation_manager=cancellation_manager))\n\u001b[0m\u001b[0;32m   1693\u001b[0m     forward_backward = self._select_forward_and_backward_functions(\n\u001b[0;32m   1694\u001b[0m         \u001b[0margs\u001b[0m\u001b[1;33m,\u001b[0m\u001b[1;33m\u001b[0m\u001b[1;33m\u001b[0m\u001b[0m\n",
      "\u001b[1;32mc:\\users\\kinkr\\anaconda3\\envs\\princess\\lib\\site-packages\\tensorflow_core\\python\\eager\\function.py\u001b[0m in \u001b[0;36mcall\u001b[1;34m(self, ctx, args, cancellation_manager)\u001b[0m\n\u001b[0;32m    543\u001b[0m               \u001b[0minputs\u001b[0m\u001b[1;33m=\u001b[0m\u001b[0margs\u001b[0m\u001b[1;33m,\u001b[0m\u001b[1;33m\u001b[0m\u001b[1;33m\u001b[0m\u001b[0m\n\u001b[0;32m    544\u001b[0m               \u001b[0mattrs\u001b[0m\u001b[1;33m=\u001b[0m\u001b[1;33m(\u001b[0m\u001b[1;34m\"executor_type\"\u001b[0m\u001b[1;33m,\u001b[0m \u001b[0mexecutor_type\u001b[0m\u001b[1;33m,\u001b[0m \u001b[1;34m\"config_proto\"\u001b[0m\u001b[1;33m,\u001b[0m \u001b[0mconfig\u001b[0m\u001b[1;33m)\u001b[0m\u001b[1;33m,\u001b[0m\u001b[1;33m\u001b[0m\u001b[1;33m\u001b[0m\u001b[0m\n\u001b[1;32m--> 545\u001b[1;33m               ctx=ctx)\n\u001b[0m\u001b[0;32m    546\u001b[0m         \u001b[1;32melse\u001b[0m\u001b[1;33m:\u001b[0m\u001b[1;33m\u001b[0m\u001b[1;33m\u001b[0m\u001b[0m\n\u001b[0;32m    547\u001b[0m           outputs = execute.execute_with_cancellation(\n",
      "\u001b[1;32mc:\\users\\kinkr\\anaconda3\\envs\\princess\\lib\\site-packages\\tensorflow_core\\python\\eager\\execute.py\u001b[0m in \u001b[0;36mquick_execute\u001b[1;34m(op_name, num_outputs, inputs, attrs, ctx, name)\u001b[0m\n\u001b[0;32m     59\u001b[0m     tensors = pywrap_tensorflow.TFE_Py_Execute(ctx._handle, device_name,\n\u001b[0;32m     60\u001b[0m                                                \u001b[0mop_name\u001b[0m\u001b[1;33m,\u001b[0m \u001b[0minputs\u001b[0m\u001b[1;33m,\u001b[0m \u001b[0mattrs\u001b[0m\u001b[1;33m,\u001b[0m\u001b[1;33m\u001b[0m\u001b[1;33m\u001b[0m\u001b[0m\n\u001b[1;32m---> 61\u001b[1;33m                                                num_outputs)\n\u001b[0m\u001b[0;32m     62\u001b[0m   \u001b[1;32mexcept\u001b[0m \u001b[0mcore\u001b[0m\u001b[1;33m.\u001b[0m\u001b[0m_NotOkStatusException\u001b[0m \u001b[1;32mas\u001b[0m \u001b[0me\u001b[0m\u001b[1;33m:\u001b[0m\u001b[1;33m\u001b[0m\u001b[1;33m\u001b[0m\u001b[0m\n\u001b[0;32m     63\u001b[0m     \u001b[1;32mif\u001b[0m \u001b[0mname\u001b[0m \u001b[1;32mis\u001b[0m \u001b[1;32mnot\u001b[0m \u001b[1;32mNone\u001b[0m\u001b[1;33m:\u001b[0m\u001b[1;33m\u001b[0m\u001b[1;33m\u001b[0m\u001b[0m\n",
      "\u001b[1;31mKeyboardInterrupt\u001b[0m: "
     ]
    }
   ],
   "source": [
    "model.fit(trainX_trans, trainY_trans, epochs=70, batch_size=16)"
   ]
  },
  {
   "cell_type": "code",
   "execution_count": 4,
   "metadata": {},
   "outputs": [
    {
     "name": "stdout",
     "output_type": "stream",
     "text": [
      "Model: \"sequential_13\"\n",
      "_________________________________________________________________\n",
      "Layer (type)                 Output Shape              Param #   \n",
      "=================================================================\n",
      "lstm_20 (LSTM)               (None, 200)               162400    \n",
      "_________________________________________________________________\n",
      "repeat_vector_9 (RepeatVecto (None, 1, 200)            0         \n",
      "_________________________________________________________________\n",
      "lstm_21 (LSTM)               (None, 1, 200)            320800    \n",
      "_________________________________________________________________\n",
      "time_distributed_15 (TimeDis (None, 1, 100)            20100     \n",
      "_________________________________________________________________\n",
      "time_distributed_16 (TimeDis (None, 1, 2)              202       \n",
      "=================================================================\n",
      "Total params: 503,502\n",
      "Trainable params: 503,502\n",
      "Non-trainable params: 0\n",
      "_________________________________________________________________\n"
     ]
    }
   ],
   "source": [
    "import tensorflow as tf\n",
    "loaded_model = tf.keras.models.load_model('C:/Users/Hailin/OneDrive/ドキュメント/熊大関連/尼崎研/EV-Bus/evBus-main/evBus-main/ltsm.h5')\n",
    "loaded_model.summary()"
   ]
  },
  {
   "cell_type": "code",
   "execution_count": 5,
   "metadata": {},
   "outputs": [
    {
     "name": "stdout",
     "output_type": "stream",
     "text": [
      "(28481, 30, 2)\n",
      "(28481, 1, 2)\n"
     ]
    }
   ],
   "source": [
    "print(testX.shape)\n",
    "print(testY.shape)"
   ]
  },
  {
   "cell_type": "code",
   "execution_count": 9,
   "metadata": {
    "collapsed": true
   },
   "outputs": [
    {
     "name": "stdout",
     "output_type": "stream",
     "text": [
      "[[0.9527588  0.9527588 ]\n",
      " [0.9527588  0.9527588 ]\n",
      " [0.9527588  0.9527588 ]\n",
      " [0.9527588  0.9527588 ]\n",
      " [0.9527588  0.95269775]\n",
      " [0.95251465 0.9523926 ]\n",
      " [0.95233154 0.95214844]\n",
      " [0.95214844 0.95202637]\n",
      " [0.95196533 0.95196533]\n",
      " [0.95196533 0.95196533]\n",
      " [0.95196533 0.95196533]\n",
      " [0.95196533 0.95196533]\n",
      " [0.95196533 0.95184326]\n",
      " [0.9517822  0.95166016]\n",
      " [0.95166016 0.95166016]\n",
      " [0.37890625 0.37890625]\n",
      " [0.37890625 0.37890625]\n",
      " [0.37890625 0.37890625]\n",
      " [0.37890625 0.37890625]\n",
      " [0.37890625 0.37878418]\n",
      " [0.37854004 0.37841797]\n",
      " [0.37841797 0.3782959 ]\n",
      " [0.37817383 0.37817383]\n",
      " [0.37805176 0.37805176]\n",
      " [0.37805176 0.37805176]\n",
      " [0.37805176 0.37805176]\n",
      " [0.37805176 0.37805176]\n",
      " [0.37805176 0.3779297 ]\n",
      " [0.37780762 0.37768555]\n",
      " [0.37756348 0.37731934]]\n",
      "[[0.9527588  0.9527588 ]\n",
      " [0.9527588  0.9527588 ]\n",
      " [0.9527588  0.9527588 ]\n",
      " [0.9527588  0.9527588 ]\n",
      " [0.95269775 0.95251465]\n",
      " [0.9523926  0.95233154]\n",
      " [0.95214844 0.95214844]\n",
      " [0.95202637 0.95196533]\n",
      " [0.95196533 0.95196533]\n",
      " [0.95196533 0.95196533]\n",
      " [0.95196533 0.95196533]\n",
      " [0.95196533 0.95196533]\n",
      " [0.95184326 0.9517822 ]\n",
      " [0.95166016 0.95166016]\n",
      " [0.95166016 0.9517822 ]\n",
      " [0.37890625 0.37890625]\n",
      " [0.37890625 0.37890625]\n",
      " [0.37890625 0.37890625]\n",
      " [0.37890625 0.37890625]\n",
      " [0.37878418 0.37854004]\n",
      " [0.37841797 0.37841797]\n",
      " [0.3782959  0.37817383]\n",
      " [0.37817383 0.37805176]\n",
      " [0.37805176 0.37805176]\n",
      " [0.37805176 0.37805176]\n",
      " [0.37805176 0.37805176]\n",
      " [0.37805176 0.37805176]\n",
      " [0.3779297  0.37780762]\n",
      " [0.37768555 0.37756348]\n",
      " [0.37731934 0.37719727]]\n"
     ]
    }
   ],
   "source": [
    "print(testX[7000])\n",
    "print(testX[7001])"
   ]
  },
  {
   "cell_type": "code",
   "execution_count": 6,
   "metadata": {},
   "outputs": [
    {
     "name": "stdout",
     "output_type": "stream",
     "text": [
      "(1, 30, 2)\n"
     ]
    }
   ],
   "source": [
    "sheed = testX[7000]\n",
    "sheed = numpy.reshape(sheed, (1,30,2))\n",
    "prediction = sheed\n",
    "print(sheed.shape)"
   ]
  },
  {
   "cell_type": "code",
   "execution_count": null,
   "metadata": {},
   "outputs": [],
   "source": []
  },
  {
   "cell_type": "code",
   "execution_count": null,
   "metadata": {},
   "outputs": [],
   "source": []
  },
  {
   "cell_type": "code",
   "execution_count": 7,
   "metadata": {},
   "outputs": [
    {
     "name": "stdout",
     "output_type": "stream",
     "text": [
      "(1, 30, 2)\n",
      "[[[0.9527588  0.9527588 ]\n",
      "  [0.9527588  0.9527588 ]\n",
      "  [0.9527588  0.9527588 ]\n",
      "  [0.9527588  0.9527588 ]\n",
      "  [0.9527588  0.95269775]\n",
      "  [0.95251465 0.9523926 ]\n",
      "  [0.95233154 0.95214844]\n",
      "  [0.95214844 0.95202637]\n",
      "  [0.95196533 0.95196533]\n",
      "  [0.95196533 0.95196533]\n",
      "  [0.95196533 0.95196533]\n",
      "  [0.95196533 0.95196533]\n",
      "  [0.95196533 0.95184326]\n",
      "  [0.9517822  0.95166016]\n",
      "  [0.95166016 0.95166016]\n",
      "  [0.37890625 0.37890625]\n",
      "  [0.37890625 0.37890625]\n",
      "  [0.37890625 0.37890625]\n",
      "  [0.37890625 0.37890625]\n",
      "  [0.37890625 0.37878418]\n",
      "  [0.37854004 0.37841797]\n",
      "  [0.37841797 0.3782959 ]\n",
      "  [0.37817383 0.37817383]\n",
      "  [0.37805176 0.37805176]\n",
      "  [0.37805176 0.37805176]\n",
      "  [0.37805176 0.37805176]\n",
      "  [0.37805176 0.37805176]\n",
      "  [0.37805176 0.3779297 ]\n",
      "  [0.37780762 0.37768555]\n",
      "  [0.37756348 0.37731934]\n",
      "  [0.9538946  0.3760368 ]]]\n"
     ]
    }
   ],
   "source": [
    "# for i in range(2000):\n",
    "res = loaded_model.predict(sheed)\n",
    "sheed = numpy.concatenate((sheed[:,1:,:], res), axis=1)\n",
    "prediction = numpy.concatenate((prediction,res), axis=1)\n",
    "print(sheed.shape)\n",
    "print(prediction)"
   ]
  },
  {
   "cell_type": "code",
   "execution_count": 9,
   "metadata": {},
   "outputs": [
    {
     "name": "stdout",
     "output_type": "stream",
     "text": [
      "[[[0.9527588  0.9527588 ]\n",
      "  [0.9527588  0.9527588 ]\n",
      "  [0.9527588  0.9527588 ]\n",
      "  [0.9527588  0.9527588 ]\n",
      "  [0.9527588  0.95269775]\n",
      "  [0.95251465 0.9523926 ]\n",
      "  [0.95233154 0.95214844]\n",
      "  [0.95214844 0.95202637]\n",
      "  [0.95196533 0.95196533]\n",
      "  [0.95196533 0.95196533]\n",
      "  [0.95196533 0.95196533]\n",
      "  [0.95196533 0.95196533]\n",
      "  [0.95196533 0.95184326]\n",
      "  [0.9517822  0.95166016]\n",
      "  [0.95166016 0.95166016]\n",
      "  [0.37890625 0.37890625]\n",
      "  [0.37890625 0.37890625]\n",
      "  [0.37890625 0.37890625]\n",
      "  [0.37890625 0.37890625]\n",
      "  [0.37890625 0.37878418]\n",
      "  [0.37854004 0.37841797]\n",
      "  [0.37841797 0.3782959 ]\n",
      "  [0.37817383 0.37817383]\n",
      "  [0.37805176 0.37805176]\n",
      "  [0.37805176 0.37805176]\n",
      "  [0.37805176 0.37805176]\n",
      "  [0.37805176 0.37805176]\n",
      "  [0.37805176 0.3779297 ]\n",
      "  [0.37780762 0.37768555]\n",
      "  [0.37756348 0.37731934]\n",
      "  [0.9538946  0.3760368 ]]]\n"
     ]
    }
   ],
   "source": [
    "print(prediction)"
   ]
  },
  {
   "cell_type": "code",
   "execution_count": 10,
   "metadata": {},
   "outputs": [
    {
     "name": "stdout",
     "output_type": "stream",
     "text": [
      "(1, 30, 2)\n",
      "[[[0.9527588  0.9527588 ]\n",
      "  [0.9527588  0.9527588 ]\n",
      "  [0.9527588  0.9527588 ]\n",
      "  [0.9527588  0.9527588 ]\n",
      "  [0.9527588  0.95269775]\n",
      "  [0.95251465 0.9523926 ]\n",
      "  [0.95233154 0.95214844]\n",
      "  [0.95214844 0.95202637]\n",
      "  [0.95196533 0.95196533]\n",
      "  [0.95196533 0.95196533]\n",
      "  [0.95196533 0.95196533]\n",
      "  [0.95196533 0.95196533]\n",
      "  [0.95196533 0.95184326]\n",
      "  [0.9517822  0.95166016]\n",
      "  [0.95166016 0.95166016]\n",
      "  [0.37890625 0.37890625]\n",
      "  [0.37890625 0.37890625]\n",
      "  [0.37890625 0.37890625]\n",
      "  [0.37890625 0.37890625]\n",
      "  [0.37890625 0.37878418]\n",
      "  [0.37854004 0.37841797]\n",
      "  [0.37841797 0.3782959 ]\n",
      "  [0.37817383 0.37817383]\n",
      "  [0.37805176 0.37805176]\n",
      "  [0.37805176 0.37805176]\n",
      "  [0.37805176 0.37805176]\n",
      "  [0.37805176 0.37805176]\n",
      "  [0.37805176 0.3779297 ]\n",
      "  [0.37780762 0.37768555]\n",
      "  [0.37756348 0.37731934]\n",
      "  [0.9538946  0.3760368 ]\n",
      "  [0.83547735 0.73089796]]]\n"
     ]
    }
   ],
   "source": [
    "res = loaded_model.predict(sheed)\n",
    "sheed = numpy.concatenate((sheed[:,1:,:], res), axis=1)\n",
    "prediction = numpy.concatenate((prediction,res), axis=1)\n",
    "print(sheed.shape)\n",
    "print(prediction)"
   ]
  },
  {
   "cell_type": "code",
   "execution_count": 7,
   "metadata": {},
   "outputs": [],
   "source": [
    "for i in range(20):\n",
    "    res = loaded_model.predict(sheed)\n",
    "    sheed = numpy.concatenate((sheed[:,1:,:], res), axis=1)\n",
    "    prediction = numpy.concatenate((prediction,res), axis=1)"
   ]
  },
  {
   "cell_type": "code",
   "execution_count": 8,
   "metadata": {},
   "outputs": [
    {
     "name": "stdout",
     "output_type": "stream",
     "text": [
      "(1, 50, 2)\n"
     ]
    }
   ],
   "source": [
    "print(prediction.shape)"
   ]
  },
  {
   "cell_type": "code",
   "execution_count": 9,
   "metadata": {},
   "outputs": [],
   "source": [
    "prediction = numpy.squeeze(prediction)\n",
    "testY = numpy.squeeze(testY)"
   ]
  },
  {
   "cell_type": "code",
   "execution_count": 10,
   "metadata": {},
   "outputs": [],
   "source": [
    "prediction = scaler.inverse_transform(prediction)\n",
    "testY = scaler.inverse_transform(testY)"
   ]
  },
  {
   "cell_type": "code",
   "execution_count": 19,
   "metadata": {},
   "outputs": [
    {
     "name": "stdout",
     "output_type": "stream",
     "text": [
      "(28481, 30, 2)\n"
     ]
    },
    {
     "ename": "ValueError",
     "evalue": "Found array with dim 3. Estimator expected <= 2.",
     "output_type": "error",
     "traceback": [
      "\u001b[1;31m---------------------------------------------------------------------------\u001b[0m",
      "\u001b[1;31mValueError\u001b[0m                                Traceback (most recent call last)",
      "\u001b[1;32m<ipython-input-19-481cd0e0bf55>\u001b[0m in \u001b[0;36m<module>\u001b[1;34m()\u001b[0m\n\u001b[0;32m      1\u001b[0m \u001b[0mtestX\u001b[0m \u001b[1;33m=\u001b[0m \u001b[0mnumpy\u001b[0m\u001b[1;33m.\u001b[0m\u001b[0msqueeze\u001b[0m\u001b[1;33m(\u001b[0m\u001b[0mtestX\u001b[0m\u001b[1;33m)\u001b[0m\u001b[1;33m\u001b[0m\u001b[1;33m\u001b[0m\u001b[0m\n\u001b[0;32m      2\u001b[0m \u001b[0mprint\u001b[0m\u001b[1;33m(\u001b[0m\u001b[0mtestX\u001b[0m\u001b[1;33m.\u001b[0m\u001b[0mshape\u001b[0m\u001b[1;33m)\u001b[0m\u001b[1;33m\u001b[0m\u001b[1;33m\u001b[0m\u001b[0m\n\u001b[1;32m----> 3\u001b[1;33m \u001b[0mtestX\u001b[0m \u001b[1;33m=\u001b[0m \u001b[0mscaler\u001b[0m\u001b[1;33m.\u001b[0m\u001b[0minverse_transform\u001b[0m\u001b[1;33m(\u001b[0m\u001b[0mtestX\u001b[0m\u001b[1;33m)\u001b[0m\u001b[1;33m\u001b[0m\u001b[1;33m\u001b[0m\u001b[0m\n\u001b[0m",
      "\u001b[1;32mF:\\program\\miniconda3\\envs\\ohm379\\lib\\site-packages\\sklearn\\preprocessing\\_data.py\u001b[0m in \u001b[0;36minverse_transform\u001b[1;34m(self, X)\u001b[0m\n\u001b[0;32m    428\u001b[0m \u001b[1;33m\u001b[0m\u001b[0m\n\u001b[0;32m    429\u001b[0m         X = check_array(X, copy=self.copy, dtype=FLOAT_DTYPES,\n\u001b[1;32m--> 430\u001b[1;33m                         force_all_finite=\"allow-nan\")\n\u001b[0m\u001b[0;32m    431\u001b[0m \u001b[1;33m\u001b[0m\u001b[0m\n\u001b[0;32m    432\u001b[0m         \u001b[0mX\u001b[0m \u001b[1;33m-=\u001b[0m \u001b[0mself\u001b[0m\u001b[1;33m.\u001b[0m\u001b[0mmin_\u001b[0m\u001b[1;33m\u001b[0m\u001b[1;33m\u001b[0m\u001b[0m\n",
      "\u001b[1;32mF:\\program\\miniconda3\\envs\\ohm379\\lib\\site-packages\\sklearn\\utils\\validation.py\u001b[0m in \u001b[0;36minner_f\u001b[1;34m(*args, **kwargs)\u001b[0m\n\u001b[0;32m     70\u001b[0m                           FutureWarning)\n\u001b[0;32m     71\u001b[0m         \u001b[0mkwargs\u001b[0m\u001b[1;33m.\u001b[0m\u001b[0mupdate\u001b[0m\u001b[1;33m(\u001b[0m\u001b[1;33m{\u001b[0m\u001b[0mk\u001b[0m\u001b[1;33m:\u001b[0m \u001b[0marg\u001b[0m \u001b[1;32mfor\u001b[0m \u001b[0mk\u001b[0m\u001b[1;33m,\u001b[0m \u001b[0marg\u001b[0m \u001b[1;32min\u001b[0m \u001b[0mzip\u001b[0m\u001b[1;33m(\u001b[0m\u001b[0msig\u001b[0m\u001b[1;33m.\u001b[0m\u001b[0mparameters\u001b[0m\u001b[1;33m,\u001b[0m \u001b[0margs\u001b[0m\u001b[1;33m)\u001b[0m\u001b[1;33m}\u001b[0m\u001b[1;33m)\u001b[0m\u001b[1;33m\u001b[0m\u001b[1;33m\u001b[0m\u001b[0m\n\u001b[1;32m---> 72\u001b[1;33m         \u001b[1;32mreturn\u001b[0m \u001b[0mf\u001b[0m\u001b[1;33m(\u001b[0m\u001b[1;33m**\u001b[0m\u001b[0mkwargs\u001b[0m\u001b[1;33m)\u001b[0m\u001b[1;33m\u001b[0m\u001b[1;33m\u001b[0m\u001b[0m\n\u001b[0m\u001b[0;32m     73\u001b[0m     \u001b[1;32mreturn\u001b[0m \u001b[0minner_f\u001b[0m\u001b[1;33m\u001b[0m\u001b[1;33m\u001b[0m\u001b[0m\n\u001b[0;32m     74\u001b[0m \u001b[1;33m\u001b[0m\u001b[0m\n",
      "\u001b[1;32mF:\\program\\miniconda3\\envs\\ohm379\\lib\\site-packages\\sklearn\\utils\\validation.py\u001b[0m in \u001b[0;36mcheck_array\u001b[1;34m(array, accept_sparse, accept_large_sparse, dtype, order, copy, force_all_finite, ensure_2d, allow_nd, ensure_min_samples, ensure_min_features, estimator)\u001b[0m\n\u001b[0;32m    639\u001b[0m         \u001b[1;32mif\u001b[0m \u001b[1;32mnot\u001b[0m \u001b[0mallow_nd\u001b[0m \u001b[1;32mand\u001b[0m \u001b[0marray\u001b[0m\u001b[1;33m.\u001b[0m\u001b[0mndim\u001b[0m \u001b[1;33m>=\u001b[0m \u001b[1;36m3\u001b[0m\u001b[1;33m:\u001b[0m\u001b[1;33m\u001b[0m\u001b[1;33m\u001b[0m\u001b[0m\n\u001b[0;32m    640\u001b[0m             raise ValueError(\"Found array with dim %d. %s expected <= 2.\"\n\u001b[1;32m--> 641\u001b[1;33m                              % (array.ndim, estimator_name))\n\u001b[0m\u001b[0;32m    642\u001b[0m \u001b[1;33m\u001b[0m\u001b[0m\n\u001b[0;32m    643\u001b[0m         \u001b[1;32mif\u001b[0m \u001b[0mforce_all_finite\u001b[0m\u001b[1;33m:\u001b[0m\u001b[1;33m\u001b[0m\u001b[1;33m\u001b[0m\u001b[0m\n",
      "\u001b[1;31mValueError\u001b[0m: Found array with dim 3. Estimator expected <= 2."
     ]
    }
   ],
   "source": [
    "testX = numpy.squeeze(testX)\n",
    "print(testX.shape)\n",
    "testX = scaler.inverse_transform(testX)"
   ]
  },
  {
   "cell_type": "code",
   "execution_count": 16,
   "metadata": {},
   "outputs": [
    {
     "name": "stdout",
     "output_type": "stream",
     "text": [
      "[[ 35.463276 139.68448 ]\n",
      " [ 35.463276 139.68448 ]\n",
      " [ 35.463276 139.68448 ]\n",
      " [ 35.463276 139.68448 ]\n",
      " [ 35.463276 139.68446 ]\n",
      " [ 35.463264 139.68443 ]\n",
      " [ 35.463257 139.6844  ]\n",
      " [ 35.46325  139.68439 ]\n",
      " [ 35.46324  139.68439 ]\n",
      " [ 35.46324  139.68439 ]\n",
      " [ 35.46324  139.68439 ]\n",
      " [ 35.46324  139.68439 ]\n",
      " [ 35.46324  139.68439 ]\n",
      " [ 35.463234 139.68436 ]\n",
      " [ 35.46323  139.68436 ]\n",
      " [ 35.439575 139.6198  ]\n",
      " [ 35.439575 139.6198  ]\n",
      " [ 35.439575 139.6198  ]\n",
      " [ 35.439575 139.6198  ]\n",
      " [ 35.439575 139.61978 ]\n",
      " [ 35.43956  139.61975 ]\n",
      " [ 35.439556 139.61974 ]\n",
      " [ 35.439545 139.61972 ]\n",
      " [ 35.43954  139.6197  ]\n",
      " [ 35.43954  139.6197  ]\n",
      " [ 35.43954  139.6197  ]\n",
      " [ 35.43954  139.6197  ]\n",
      " [ 35.43954  139.61969 ]\n",
      " [ 35.43953  139.61966 ]\n",
      " [ 35.43952  139.61963 ]\n",
      " [ 35.46332  139.61948 ]\n",
      " [ 35.45843  139.65948 ]\n",
      " [ 35.456722 139.675   ]]\n",
      "[[ 35.463276 139.6198  ]\n",
      " [ 35.463276 139.6198  ]\n",
      " [ 35.463276 139.6198  ]\n",
      " [ 35.463276 139.6198  ]\n",
      " [ 35.463276 139.6198  ]\n",
      " [ 35.463276 139.6198  ]\n",
      " [ 35.463276 139.6198  ]\n",
      " [ 35.463276 139.6198  ]\n",
      " [ 35.463276 139.6198  ]\n",
      " [ 35.463272 139.61978 ]\n",
      " [ 35.463264 139.61977 ]\n",
      " [ 35.46326  139.61975 ]\n",
      " [ 35.463257 139.61975 ]\n",
      " [ 35.46325  139.61974 ]\n",
      " [ 35.46325  139.61972 ]\n",
      " [ 35.463245 139.61972 ]\n",
      " [ 35.46324  139.6197  ]\n",
      " [ 35.46324  139.6197  ]\n",
      " [ 35.46324  139.6197  ]\n",
      " [ 35.46324  139.6197  ]\n",
      " [ 35.46324  139.6197  ]\n",
      " [ 35.46324  139.6197  ]\n",
      " [ 35.46324  139.6197  ]\n",
      " [ 35.46324  139.6197  ]\n",
      " [ 35.46324  139.6197  ]\n",
      " [ 35.463238 139.61969 ]\n",
      " [ 35.463234 139.61967 ]\n",
      " [ 35.46323  139.61966 ]\n",
      " [ 35.46323  139.61964 ]\n",
      " [ 35.46323  139.61963 ]\n",
      " [ 35.463234 139.61961 ]\n",
      " [ 35.46324  139.61958 ]\n",
      " [ 35.463253 139.61957 ]]\n"
     ]
    }
   ],
   "source": [
    "print(prediction[0:33])\n",
    "print(testY[6970:7003])"
   ]
  },
  {
   "cell_type": "code",
   "execution_count": 13,
   "metadata": {},
   "outputs": [
    {
     "data": {
      "image/png": "[encoded data removed]",
      "text/plain": [
       "<Figure size 432x288 with 1 Axes>"
      ]
     },
     "metadata": {
      "needs_background": "light"
     },
     "output_type": "display_data"
    }
   ],
   "source": [
    "import matplotlib as mpl\n",
    "from mpl_toolkits.mplot3d import Axes3D\n",
    "\n",
    " \n",
    "mpl.rcParams['legend.fontsize'] = 10\n",
    " \n",
    "fig = plt.figure()\n",
    "ax = fig.gca(projection='3d')\n",
    "ax.plot(range(2030), testY[7000:9030,0], testY[7000:9030,1], label='GPS line')\n",
    "ax.plot(range(len(testPredict)), testPredict[:,0], testPredict[:,1], label='Predict line')\n",
    "ax.legend()\n",
    "plt.title('Test Cluster')\n",
    "# plt.savefig(\"C:/Users/Hailin/OneDrive/ドキュメント/熊大関連/尼崎研/EV-Bus/evBus-main/evBus-main/lstm/LSTM.svg\", format=\"svg\")\n",
    " \n",
    "plt.show()"
   ]
  },
  {
   "cell_type": "code",
   "execution_count": 14,
   "metadata": {},
   "outputs": [
    {
     "name": "stdout",
     "output_type": "stream",
     "text": [
      "0.00027268266\n",
      "0.00022566777\n"
     ]
    }
   ],
   "source": [
    "import numpy as np\n",
    "def mean_absolute_percentage_error(y_true, y_pred): \n",
    "    y_true, y_pred = np.array(y_true), np.array(y_pred) \n",
    "    return np.mean(np.abs((y_true - y_pred)/y_true))\n",
    "\n",
    "error_lat = mean_absolute_percentage_error(testY[7000:9030,0], testPredict[:,0])\n",
    "error_lon = mean_absolute_percentage_error(testY[7000:9030,1], testPredict[:,1])\n",
    "print(error_lat)\n",
    "print(error_lon)"
   ]
  },
  {
   "cell_type": "code",
   "execution_count": 18,
   "metadata": {},
   "outputs": [
    {
     "data": {
      "image/png": "[encoded data removed]",
      "text/plain": [
       "<Figure size 432x288 with 1 Axes>"
      ]
     },
     "metadata": {
      "needs_background": "light"
     },
     "output_type": "display_data"
    }
   ],
   "source": [
    "plt.plot(range(40), testY[7000:7040,0], label='GPS line')\n",
    "plt.plot(range(40), testPredict[0:40,0], label='Predict line')\n",
    "plt.legend() \n",
    "plt.show()"
   ]
  },
  {
   "cell_type": "code",
   "execution_count": 28,
   "metadata": {},
   "outputs": [
    {
     "data": {
      "image/png": "[encoded data removed]",
      "text/plain": [
       "<Figure size 432x288 with 1 Axes>"
      ]
     },
     "metadata": {
      "needs_background": "light"
     },
     "output_type": "display_data"
    }
   ],
   "source": [
    "plt.scatter(range(500), testY[700:1200,0], label='GPS line')\n",
    "\n",
    "plt.legend() \n",
    "plt.show()"
   ]
  },
  {
   "cell_type": "code",
   "execution_count": 30,
   "metadata": {},
   "outputs": [
    {
     "data": {
      "image/png": "[encoded data removed]",
      "text/plain": [
       "<Figure size 432x288 with 1 Axes>"
      ]
     },
     "metadata": {
      "needs_background": "light"
     },
     "output_type": "display_data"
    }
   ],
   "source": [
    "plt.plot(range(40), testY[7000:7040,1], label='GPS line')\n",
    "plt.plot(range(40), testPredict[0:40,1], label='Predict line')\n",
    "plt.legend() \n",
    "plt.show()"
   ]
  },
  {
   "cell_type": "code",
   "execution_count": 19,
   "metadata": {},
   "outputs": [
    {
     "data": {
      "image/png": "[encoded data removed]",
      "text/plain": [
       "<Figure size 432x288 with 1 Axes>"
      ]
     },
     "metadata": {
      "needs_background": "light"
     },
     "output_type": "display_data"
    }
   ],
   "source": [
    "plt.plot(range(len(testY)), testY[:,1], label='GPS line')\n",
    "plt.legend() \n",
    "plt.show()"
   ]
  },
  {
   "cell_type": "code",
   "execution_count": null,
   "metadata": {},
   "outputs": [],
   "source": []
  }
 ],
 "metadata": {
  "kernelspec": {
   "display_name": "Python 3",
   "language": "python",
   "name": "python3"
  },
  "language_info": {
   "codemirror_mode": {
    "name": "ipython",
    "version": 3
   },
   "file_extension": ".py",
   "mimetype": "text/x-python",
   "name": "python",
   "nbconvert_exporter": "python",
   "pygments_lexer": "ipython3",
   "version": "3.7.7"
  }
 },
 "nbformat": 4,
 "nbformat_minor": 4
}
