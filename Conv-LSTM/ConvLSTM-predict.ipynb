{
 "cells": [
  {
   "cell_type": "code",
   "execution_count": 33,
   "metadata": {},
   "outputs": [
    {
     "name": "stdout",
     "output_type": "stream",
     "text": [
      "numpy ver.: 1.19.1\n",
      "pandas ver.: 1.1.2\n",
      "tensorflow ver.: 2.1.0\n",
      "keras ver.: 2.3.1\n"
     ]
    },
    {
     "data": {
      "image/png": "[encoded data removed]",
      "text/plain": [
       "<Figure size 1152x720 with 1 Axes>"
      ]
     },
     "metadata": {
      "needs_background": "light"
     },
     "output_type": "display_data"
    },
    {
     "name": "stdout",
     "output_type": "stream",
     "text": [
      "         lat         lng\n",
      "0  35.456029  139.611249\n",
      "1  35.456029  139.611249\n",
      "2  35.456029  139.611249\n",
      "3  35.456029  139.611249\n",
      "4  35.456029  139.611249\n"
     ]
    }
   ],
   "source": [
    "import numpy\n",
    "import matplotlib.pyplot as plt\n",
    "import pandas\n",
    "import math\n",
    "\n",
    "from sklearn.preprocessing import MinMaxScaler\n",
    "from sklearn.metrics import mean_squared_error\n",
    "\n",
    "import tensorflow as tf\n",
    "import keras\n",
    "\n",
    "from keras.models import Sequential\n",
    "from keras.layers import *\n",
    "from keras.layers.wrappers import *\n",
    "from keras.optimizers import RMSprop\n",
    "from keras.callbacks import CSVLogger, EarlyStopping\n",
    "import keras.backend.tensorflow_backend as ktf\n",
    "\n",
    "plt.style.use('ggplot')\n",
    "%matplotlib inline\n",
    "plt.rcParams['axes.facecolor'] = 'w'\n",
    "plt.rcParams['axes.labelcolor'] = 'k'\n",
    "plt.rcParams['axes.edgecolor'] = 'k'\n",
    "plt.rcParams['ytick.color'] = 'k'\n",
    "plt.rcParams['xtick.color'] = 'k'\n",
    "plt.rcParams['grid.color'] = (.7, .7, .7, 0)\n",
    "plt.rcParams['figure.figsize'] = (16, 10)\n",
    "\n",
    "print('numpy ver.: ' + numpy.__version__)\n",
    "print('pandas ver.: ' + pandas.__version__)\n",
    "print('tensorflow ver.: ' + tf.__version__) \n",
    "print('keras ver.: ' + keras.__version__)\n",
    "#データ読み込み\n",
    "dataframe = pandas.read_csv('C:/Users/Hailin/OneDrive/ドキュメント/熊大関連/尼崎研/EV-Bus/evBus-main/evBus-main/1589.csv', usecols=[1,2], engine='python', skipfooter=1)\n",
    "plt.plot(dataframe)\n",
    "plt.show()\n",
    "print(dataframe.head())"
   ]
  },
  {
   "cell_type": "code",
   "execution_count": 34,
   "metadata": {},
   "outputs": [
    {
     "name": "stdout",
     "output_type": "stream",
     "text": [
      "86399\n",
      "86399\n",
      "41626 20503\n"
     ]
    }
   ],
   "source": [
    "dataset = dataframe.values\n",
    "dataset = dataset.astype('float32')\n",
    "print(len(dataset))\n",
    "dataset_real = dataset[24270:]\n",
    "print(len(dataset))\n",
    "# normalize the dataset\n",
    "scaler = MinMaxScaler(feature_range=(0, 1))\n",
    "dataset_real = scaler.fit_transform(dataset_real)\n",
    "\n",
    "# split into train and test sets\n",
    "train_size = int(len(dataset_real) * 0.67)\n",
    "test_size = len(dataset_real) - train_size\n",
    "train, test = dataset_real[0:train_size,:], dataset_real[train_size:len(dataset_real),:]\n",
    "print(len(train), len(test))"
   ]
  },
  {
   "cell_type": "code",
   "execution_count": 35,
   "metadata": {},
   "outputs": [
    {
     "name": "stdout",
     "output_type": "stream",
     "text": [
      "(41626, 2)\n",
      "[0.77734375 0.3031006 ]\n"
     ]
    }
   ],
   "source": [
    "print(train.shape)\n",
    "print(train[0])"
   ]
  },
  {
   "cell_type": "code",
   "execution_count": 36,
   "metadata": {},
   "outputs": [
    {
     "name": "stdout",
     "output_type": "stream",
     "text": [
      "(41550, 2, 60)\n",
      "[[0.8045044  0.80303955 0.80163574 0.8001709  0.79870605 0.7972412\n",
      "  0.79577637 0.79437256 0.7929077  0.7915039  0.789917   0.78845215\n",
      "  0.7869873  0.7855835  0.7843628  0.78338623 0.7822876  0.7810669\n",
      "  0.77978516 0.77856445 0.7774658  0.7764282  0.7751465  0.77368164\n",
      "  0.7720947  0.7706299  0.76916504 0.76763916 0.7661743  0.7645874\n",
      "  0.76312256 0.7617798  0.760437   0.7593384  0.7585449  0.7578125\n",
      "  0.7575073  0.75738525 0.75738525 0.75738525 0.75738525 0.75738525\n",
      "  0.75738525 0.75738525 0.75738525 0.75738525 0.75738525 0.7573242\n",
      "  0.75701904 0.7565918  0.7559204  0.755188   0.75439453 0.75354004\n",
      "  0.7526245  0.7515259  0.7501831  0.74890137 0.7474365  0.7459717 ]\n",
      " [0.44555664 0.44543457 0.4453125  0.44506836 0.4449463  0.44482422\n",
      "  0.44458008 0.44433594 0.44421387 0.44396973 0.4437256  0.44348145\n",
      "  0.44299316 0.44274902 0.4423828  0.44213867 0.44177246 0.4416504\n",
      "  0.44189453 0.44250488 0.44274902 0.44299316 0.44348145 0.44384766\n",
      "  0.44433594 0.44482422 0.44519043 0.44580078 0.446167   0.4465332\n",
      "  0.44702148 0.4473877  0.4477539  0.44812012 0.44848633 0.4486084\n",
      "  0.44873047 0.44873047 0.44873047 0.44873047 0.44873047 0.44873047\n",
      "  0.44873047 0.44873047 0.44873047 0.44873047 0.44873047 0.44873047\n",
      "  0.44873047 0.44885254 0.4489746  0.44921875 0.44958496 0.44970703\n",
      "  0.45007324 0.45031738 0.45080566 0.45117188 0.4515381  0.45202637]]\n",
      "(41550, 2, 15)\n",
      "[[0.7459717  0.74468994 0.743103   0.7414551  0.7397461  0.7380371\n",
      "  0.7362671  0.7344971  0.7328491  0.73101807 0.729126   0.7272339\n",
      "  0.72528076 0.72320557 0.7213135 ]\n",
      " [0.45202637 0.45239258 0.45288086 0.45336914 0.45373535 0.45422363\n",
      "  0.45483398 0.45532227 0.45593262 0.4564209  0.45703125 0.45751953\n",
      "  0.4580078  0.45874023 0.45922852]]\n"
     ]
    }
   ],
   "source": [
    "# convert an array of values into a dataset matrix\n",
    "# if you give look_back 3, a part of the array will be like this: Jan, Feb, Mar\n",
    "def create_dataset(dataset, look_back=1, look_forward=1):\n",
    "    dataX, dataY = [], []\n",
    "    for i in range(len(dataset)-look_back-look_forward-1):\n",
    "        xset, yset = [], []\n",
    "        for j in range(dataset.shape[1]):\n",
    "            a = dataset[i:(i+look_back), j]\n",
    "            b = dataset[(i+look_back):(look_forward+look_back+i), j]\n",
    "            xset.append(a)\n",
    "            yset.append(b)\n",
    "        dataX.append(xset)\n",
    "        dataY.append(yset)\n",
    "    return numpy.array(dataX), numpy.array(dataY)\n",
    "\n",
    "# use 60 --> predict 15\n",
    "look_back = 60\n",
    "look_forward = 15\n",
    "\n",
    "trainX, trainY = create_dataset(train, look_back, look_forward)\n",
    "testX, testY = create_dataset(test, look_back, look_forward)\n",
    "print(trainX.shape)\n",
    "print(trainX[7001])\n",
    "\n",
    "print(trainY.shape)\n",
    "print(trainY[7000])"
   ]
  },
  {
   "cell_type": "code",
   "execution_count": 38,
   "metadata": {},
   "outputs": [
    {
     "name": "stdout",
     "output_type": "stream",
     "text": [
      "(41550, 60, 2)\n",
      "(41550, 15, 2)\n",
      "(20427, 60, 2)\n",
      "(20427, 15, 2)\n"
     ]
    }
   ],
   "source": [
    "trainX_trans = trainX.transpose((0, 2, 1))\n",
    "trainY_trans = trainY.transpose((0, 2, 1))\n",
    "testX_trans = testX.transpose((0, 2, 1))\n",
    "testY_trans = testY.transpose((0, 2, 1))"
   ]
  },
  {
   "cell_type": "code",
   "execution_count": 40,
   "metadata": {},
   "outputs": [
    {
     "name": "stdout",
     "output_type": "stream",
     "text": [
      "(41550, 60, 1, 2, 1)\n",
      "(41550, 15, 1, 2, 1)\n",
      "(20427, 60, 1, 2, 1)\n",
      "(20427, 15, 1, 2, 1)\n"
     ]
    }
   ],
   "source": [
    "trainX_re = trainX_trans.reshape((trainX_trans.shape[0], 60, 1, trainX_trans.shape[2], 1))\n",
    "trainY_re = trainY_trans.reshape((trainY_trans.shape[0], 15, 1, trainY_trans.shape[2], 1))\n",
    "testX_re = testX_trans.reshape((testX_trans.shape[0], 60, 1, testX_trans.shape[2], 1))\n",
    "testY_re = testY_trans.reshape((testY_trans.shape[0], 15, 1, testY_trans.shape[2], 1))\n",
    "\n",
    "print(trainX_re.shape)\n",
    "print(trainY_re.shape)\n",
    "print(testX_re.shape)\n",
    "print(testY_re.shape)"
   ]
  },
  {
   "cell_type": "code",
   "execution_count": 48,
   "metadata": {},
   "outputs": [
    {
     "name": "stdout",
     "output_type": "stream",
     "text": [
      "Model: \"sequential_7\"\n",
      "_________________________________________________________________\n",
      "Layer (type)                 Output Shape              Param #   \n",
      "=================================================================\n",
      "batch_norm_0 (BatchNormaliza (None, 60, 1, 2, 1)       4         \n",
      "_________________________________________________________________\n",
      "conv_lstm_1 (ConvLSTM2D)     (None, 60, 1, 2, 64)      166656    \n",
      "_________________________________________________________________\n",
      "dropout_1 (Dropout)          (None, 60, 1, 2, 64)      0         \n",
      "_________________________________________________________________\n",
      "batch_norm_1 (BatchNormaliza (None, 60, 1, 2, 64)      256       \n",
      "_________________________________________________________________\n",
      "conv_lstm_2 (ConvLSTM2D)     (None, 1, 2, 64)          164096    \n",
      "_________________________________________________________________\n",
      "dropout_2 (Dropout)          (None, 1, 2, 64)          0         \n",
      "_________________________________________________________________\n",
      "batch_norm_2 (BatchNormaliza (None, 1, 2, 64)          256       \n",
      "_________________________________________________________________\n",
      "flatten_5 (Flatten)          (None, 128)               0         \n",
      "_________________________________________________________________\n",
      "repeat_vector_5 (RepeatVecto (None, 15, 128)           0         \n",
      "_________________________________________________________________\n",
      "reshape_3 (Reshape)          (None, 15, 1, 2, 64)      0         \n",
      "_________________________________________________________________\n",
      "conv_lstm_3 (ConvLSTM2D)     (None, 15, 1, 2, 64)      327936    \n",
      "_________________________________________________________________\n",
      "dropout_3 (Dropout)          (None, 15, 1, 2, 64)      0         \n",
      "_________________________________________________________________\n",
      "batch_norm_3 (BatchNormaliza (None, 15, 1, 2, 64)      256       \n",
      "_________________________________________________________________\n",
      "conv_lstm_4 (ConvLSTM2D)     (None, 15, 1, 2, 64)      164096    \n",
      "_________________________________________________________________\n",
      "time_distributed_3 (TimeDist (None, 15, 1, 2, 1)       65        \n",
      "=================================================================\n",
      "Total params: 823,621\n",
      "Trainable params: 823,235\n",
      "Non-trainable params: 386\n",
      "_________________________________________________________________\n",
      "Epoch 1/70\n"
     ]
    },
    {
     "ename": "UnknownError",
     "evalue": " Failed to get convolution algorithm. This is probably because cuDNN failed to initialize, so try looking to see if a warning log message was printed above.\n\t [[node conv_lstm_1_4/convolution (defined at F:\\program\\miniconda3\\envs\\ohm379\\lib\\site-packages\\keras\\backend\\tensorflow_backend.py:3009) ]] [Op:__inference_keras_scratch_graph_16537]\n\nFunction call stack:\nkeras_scratch_graph\n",
     "output_type": "error",
     "traceback": [
      "\u001b[1;31m---------------------------------------------------------------------------\u001b[0m",
      "\u001b[1;31mUnknownError\u001b[0m                              Traceback (most recent call last)",
      "\u001b[1;32m<ipython-input-48-fa1140fb9214>\u001b[0m in \u001b[0;36m<module>\u001b[1;34m()\u001b[0m\n\u001b[0;32m     44\u001b[0m \u001b[0mmodel\u001b[0m\u001b[1;33m.\u001b[0m\u001b[0msummary\u001b[0m\u001b[1;33m(\u001b[0m\u001b[1;33m)\u001b[0m\u001b[1;33m\u001b[0m\u001b[1;33m\u001b[0m\u001b[0m\n\u001b[0;32m     45\u001b[0m \u001b[0mmodel\u001b[0m\u001b[1;33m.\u001b[0m\u001b[0mcompile\u001b[0m\u001b[1;33m(\u001b[0m\u001b[0mloss\u001b[0m\u001b[1;33m=\u001b[0m\u001b[1;34m'mean_squared_error'\u001b[0m\u001b[1;33m,\u001b[0m \u001b[0moptimizer\u001b[0m\u001b[1;33m=\u001b[0m\u001b[1;34m'adam'\u001b[0m\u001b[1;33m,\u001b[0m \u001b[0mmetrics\u001b[0m\u001b[1;33m=\u001b[0m\u001b[1;33m[\u001b[0m\u001b[1;34m'mae'\u001b[0m\u001b[1;33m,\u001b[0m \u001b[1;34m'mape'\u001b[0m\u001b[1;33m]\u001b[0m\u001b[1;33m)\u001b[0m\u001b[1;33m\u001b[0m\u001b[1;33m\u001b[0m\u001b[0m\n\u001b[1;32m---> 46\u001b[1;33m \u001b[0mmodel\u001b[0m\u001b[1;33m.\u001b[0m\u001b[0mfit\u001b[0m\u001b[1;33m(\u001b[0m\u001b[0mtrainX_re\u001b[0m\u001b[1;33m,\u001b[0m \u001b[0mtrainY_re\u001b[0m\u001b[1;33m,\u001b[0m \u001b[0mepochs\u001b[0m\u001b[1;33m=\u001b[0m\u001b[1;36m70\u001b[0m\u001b[1;33m,\u001b[0m \u001b[0mbatch_size\u001b[0m\u001b[1;33m=\u001b[0m\u001b[1;36m16\u001b[0m\u001b[1;33m)\u001b[0m\u001b[1;33m\u001b[0m\u001b[1;33m\u001b[0m\u001b[0m\n\u001b[0m",
      "\u001b[1;32mF:\\program\\miniconda3\\envs\\ohm379\\lib\\site-packages\\keras\\engine\\training.py\u001b[0m in \u001b[0;36mfit\u001b[1;34m(self, x, y, batch_size, epochs, verbose, callbacks, validation_split, validation_data, shuffle, class_weight, sample_weight, initial_epoch, steps_per_epoch, validation_steps, validation_freq, max_queue_size, workers, use_multiprocessing, **kwargs)\u001b[0m\n\u001b[0;32m   1237\u001b[0m                                         \u001b[0msteps_per_epoch\u001b[0m\u001b[1;33m=\u001b[0m\u001b[0msteps_per_epoch\u001b[0m\u001b[1;33m,\u001b[0m\u001b[1;33m\u001b[0m\u001b[1;33m\u001b[0m\u001b[0m\n\u001b[0;32m   1238\u001b[0m                                         \u001b[0mvalidation_steps\u001b[0m\u001b[1;33m=\u001b[0m\u001b[0mvalidation_steps\u001b[0m\u001b[1;33m,\u001b[0m\u001b[1;33m\u001b[0m\u001b[1;33m\u001b[0m\u001b[0m\n\u001b[1;32m-> 1239\u001b[1;33m                                         validation_freq=validation_freq)\n\u001b[0m\u001b[0;32m   1240\u001b[0m \u001b[1;33m\u001b[0m\u001b[0m\n\u001b[0;32m   1241\u001b[0m     def evaluate(self,\n",
      "\u001b[1;32mF:\\program\\miniconda3\\envs\\ohm379\\lib\\site-packages\\keras\\engine\\training_arrays.py\u001b[0m in \u001b[0;36mfit_loop\u001b[1;34m(model, fit_function, fit_inputs, out_labels, batch_size, epochs, verbose, callbacks, val_function, val_inputs, shuffle, initial_epoch, steps_per_epoch, validation_steps, validation_freq)\u001b[0m\n\u001b[0;32m    194\u001b[0m                     \u001b[0mins_batch\u001b[0m\u001b[1;33m[\u001b[0m\u001b[0mi\u001b[0m\u001b[1;33m]\u001b[0m \u001b[1;33m=\u001b[0m \u001b[0mins_batch\u001b[0m\u001b[1;33m[\u001b[0m\u001b[0mi\u001b[0m\u001b[1;33m]\u001b[0m\u001b[1;33m.\u001b[0m\u001b[0mtoarray\u001b[0m\u001b[1;33m(\u001b[0m\u001b[1;33m)\u001b[0m\u001b[1;33m\u001b[0m\u001b[1;33m\u001b[0m\u001b[0m\n\u001b[0;32m    195\u001b[0m \u001b[1;33m\u001b[0m\u001b[0m\n\u001b[1;32m--> 196\u001b[1;33m                 \u001b[0mouts\u001b[0m \u001b[1;33m=\u001b[0m \u001b[0mfit_function\u001b[0m\u001b[1;33m(\u001b[0m\u001b[0mins_batch\u001b[0m\u001b[1;33m)\u001b[0m\u001b[1;33m\u001b[0m\u001b[1;33m\u001b[0m\u001b[0m\n\u001b[0m\u001b[0;32m    197\u001b[0m                 \u001b[0mouts\u001b[0m \u001b[1;33m=\u001b[0m \u001b[0mto_list\u001b[0m\u001b[1;33m(\u001b[0m\u001b[0mouts\u001b[0m\u001b[1;33m)\u001b[0m\u001b[1;33m\u001b[0m\u001b[1;33m\u001b[0m\u001b[0m\n\u001b[0;32m    198\u001b[0m                 \u001b[1;32mfor\u001b[0m \u001b[0ml\u001b[0m\u001b[1;33m,\u001b[0m \u001b[0mo\u001b[0m \u001b[1;32min\u001b[0m \u001b[0mzip\u001b[0m\u001b[1;33m(\u001b[0m\u001b[0mout_labels\u001b[0m\u001b[1;33m,\u001b[0m \u001b[0mouts\u001b[0m\u001b[1;33m)\u001b[0m\u001b[1;33m:\u001b[0m\u001b[1;33m\u001b[0m\u001b[1;33m\u001b[0m\u001b[0m\n",
      "\u001b[1;32mF:\\program\\miniconda3\\envs\\ohm379\\lib\\site-packages\\tensorflow_core\\python\\keras\\backend.py\u001b[0m in \u001b[0;36m__call__\u001b[1;34m(self, inputs)\u001b[0m\n\u001b[0;32m   3725\u001b[0m         \u001b[0mvalue\u001b[0m \u001b[1;33m=\u001b[0m \u001b[0mmath_ops\u001b[0m\u001b[1;33m.\u001b[0m\u001b[0mcast\u001b[0m\u001b[1;33m(\u001b[0m\u001b[0mvalue\u001b[0m\u001b[1;33m,\u001b[0m \u001b[0mtensor\u001b[0m\u001b[1;33m.\u001b[0m\u001b[0mdtype\u001b[0m\u001b[1;33m)\u001b[0m\u001b[1;33m\u001b[0m\u001b[1;33m\u001b[0m\u001b[0m\n\u001b[0;32m   3726\u001b[0m       \u001b[0mconverted_inputs\u001b[0m\u001b[1;33m.\u001b[0m\u001b[0mappend\u001b[0m\u001b[1;33m(\u001b[0m\u001b[0mvalue\u001b[0m\u001b[1;33m)\u001b[0m\u001b[1;33m\u001b[0m\u001b[1;33m\u001b[0m\u001b[0m\n\u001b[1;32m-> 3727\u001b[1;33m     \u001b[0moutputs\u001b[0m \u001b[1;33m=\u001b[0m \u001b[0mself\u001b[0m\u001b[1;33m.\u001b[0m\u001b[0m_graph_fn\u001b[0m\u001b[1;33m(\u001b[0m\u001b[1;33m*\u001b[0m\u001b[0mconverted_inputs\u001b[0m\u001b[1;33m)\u001b[0m\u001b[1;33m\u001b[0m\u001b[1;33m\u001b[0m\u001b[0m\n\u001b[0m\u001b[0;32m   3728\u001b[0m \u001b[1;33m\u001b[0m\u001b[0m\n\u001b[0;32m   3729\u001b[0m     \u001b[1;31m# EagerTensor.numpy() will often make a copy to ensure memory safety.\u001b[0m\u001b[1;33m\u001b[0m\u001b[1;33m\u001b[0m\u001b[1;33m\u001b[0m\u001b[0m\n",
      "\u001b[1;32mF:\\program\\miniconda3\\envs\\ohm379\\lib\\site-packages\\tensorflow_core\\python\\eager\\function.py\u001b[0m in \u001b[0;36m__call__\u001b[1;34m(self, *args, **kwargs)\u001b[0m\n\u001b[0;32m   1549\u001b[0m       \u001b[0mTypeError\u001b[0m\u001b[1;33m:\u001b[0m \u001b[0mFor\u001b[0m \u001b[0minvalid\u001b[0m \u001b[0mpositional\u001b[0m\u001b[1;33m/\u001b[0m\u001b[0mkeyword\u001b[0m \u001b[0margument\u001b[0m \u001b[0mcombinations\u001b[0m\u001b[1;33m.\u001b[0m\u001b[1;33m\u001b[0m\u001b[1;33m\u001b[0m\u001b[0m\n\u001b[0;32m   1550\u001b[0m     \"\"\"\n\u001b[1;32m-> 1551\u001b[1;33m     \u001b[1;32mreturn\u001b[0m \u001b[0mself\u001b[0m\u001b[1;33m.\u001b[0m\u001b[0m_call_impl\u001b[0m\u001b[1;33m(\u001b[0m\u001b[0margs\u001b[0m\u001b[1;33m,\u001b[0m \u001b[0mkwargs\u001b[0m\u001b[1;33m)\u001b[0m\u001b[1;33m\u001b[0m\u001b[1;33m\u001b[0m\u001b[0m\n\u001b[0m\u001b[0;32m   1552\u001b[0m \u001b[1;33m\u001b[0m\u001b[0m\n\u001b[0;32m   1553\u001b[0m   \u001b[1;32mdef\u001b[0m \u001b[0m_call_impl\u001b[0m\u001b[1;33m(\u001b[0m\u001b[0mself\u001b[0m\u001b[1;33m,\u001b[0m \u001b[0margs\u001b[0m\u001b[1;33m,\u001b[0m \u001b[0mkwargs\u001b[0m\u001b[1;33m,\u001b[0m \u001b[0mcancellation_manager\u001b[0m\u001b[1;33m=\u001b[0m\u001b[1;32mNone\u001b[0m\u001b[1;33m)\u001b[0m\u001b[1;33m:\u001b[0m\u001b[1;33m\u001b[0m\u001b[1;33m\u001b[0m\u001b[0m\n",
      "\u001b[1;32mF:\\program\\miniconda3\\envs\\ohm379\\lib\\site-packages\\tensorflow_core\\python\\eager\\function.py\u001b[0m in \u001b[0;36m_call_impl\u001b[1;34m(self, args, kwargs, cancellation_manager)\u001b[0m\n\u001b[0;32m   1589\u001b[0m       raise TypeError(\"Keyword arguments {} unknown. Expected {}.\".format(\n\u001b[0;32m   1590\u001b[0m           list(kwargs.keys()), list(self._arg_keywords)))\n\u001b[1;32m-> 1591\u001b[1;33m     \u001b[1;32mreturn\u001b[0m \u001b[0mself\u001b[0m\u001b[1;33m.\u001b[0m\u001b[0m_call_flat\u001b[0m\u001b[1;33m(\u001b[0m\u001b[0margs\u001b[0m\u001b[1;33m,\u001b[0m \u001b[0mself\u001b[0m\u001b[1;33m.\u001b[0m\u001b[0mcaptured_inputs\u001b[0m\u001b[1;33m,\u001b[0m \u001b[0mcancellation_manager\u001b[0m\u001b[1;33m)\u001b[0m\u001b[1;33m\u001b[0m\u001b[1;33m\u001b[0m\u001b[0m\n\u001b[0m\u001b[0;32m   1592\u001b[0m \u001b[1;33m\u001b[0m\u001b[0m\n\u001b[0;32m   1593\u001b[0m   \u001b[1;32mdef\u001b[0m \u001b[0m_filtered_call\u001b[0m\u001b[1;33m(\u001b[0m\u001b[0mself\u001b[0m\u001b[1;33m,\u001b[0m \u001b[0margs\u001b[0m\u001b[1;33m,\u001b[0m \u001b[0mkwargs\u001b[0m\u001b[1;33m)\u001b[0m\u001b[1;33m:\u001b[0m\u001b[1;33m\u001b[0m\u001b[1;33m\u001b[0m\u001b[0m\n",
      "\u001b[1;32mF:\\program\\miniconda3\\envs\\ohm379\\lib\\site-packages\\tensorflow_core\\python\\eager\\function.py\u001b[0m in \u001b[0;36m_call_flat\u001b[1;34m(self, args, captured_inputs, cancellation_manager)\u001b[0m\n\u001b[0;32m   1690\u001b[0m       \u001b[1;31m# No tape is watching; skip to running the function.\u001b[0m\u001b[1;33m\u001b[0m\u001b[1;33m\u001b[0m\u001b[1;33m\u001b[0m\u001b[0m\n\u001b[0;32m   1691\u001b[0m       return self._build_call_outputs(self._inference_function.call(\n\u001b[1;32m-> 1692\u001b[1;33m           ctx, args, cancellation_manager=cancellation_manager))\n\u001b[0m\u001b[0;32m   1693\u001b[0m     forward_backward = self._select_forward_and_backward_functions(\n\u001b[0;32m   1694\u001b[0m         \u001b[0margs\u001b[0m\u001b[1;33m,\u001b[0m\u001b[1;33m\u001b[0m\u001b[1;33m\u001b[0m\u001b[0m\n",
      "\u001b[1;32mF:\\program\\miniconda3\\envs\\ohm379\\lib\\site-packages\\tensorflow_core\\python\\eager\\function.py\u001b[0m in \u001b[0;36mcall\u001b[1;34m(self, ctx, args, cancellation_manager)\u001b[0m\n\u001b[0;32m    543\u001b[0m               \u001b[0minputs\u001b[0m\u001b[1;33m=\u001b[0m\u001b[0margs\u001b[0m\u001b[1;33m,\u001b[0m\u001b[1;33m\u001b[0m\u001b[1;33m\u001b[0m\u001b[0m\n\u001b[0;32m    544\u001b[0m               \u001b[0mattrs\u001b[0m\u001b[1;33m=\u001b[0m\u001b[1;33m(\u001b[0m\u001b[1;34m\"executor_type\"\u001b[0m\u001b[1;33m,\u001b[0m \u001b[0mexecutor_type\u001b[0m\u001b[1;33m,\u001b[0m \u001b[1;34m\"config_proto\"\u001b[0m\u001b[1;33m,\u001b[0m \u001b[0mconfig\u001b[0m\u001b[1;33m)\u001b[0m\u001b[1;33m,\u001b[0m\u001b[1;33m\u001b[0m\u001b[1;33m\u001b[0m\u001b[0m\n\u001b[1;32m--> 545\u001b[1;33m               ctx=ctx)\n\u001b[0m\u001b[0;32m    546\u001b[0m         \u001b[1;32melse\u001b[0m\u001b[1;33m:\u001b[0m\u001b[1;33m\u001b[0m\u001b[1;33m\u001b[0m\u001b[0m\n\u001b[0;32m    547\u001b[0m           outputs = execute.execute_with_cancellation(\n",
      "\u001b[1;32mF:\\program\\miniconda3\\envs\\ohm379\\lib\\site-packages\\tensorflow_core\\python\\eager\\execute.py\u001b[0m in \u001b[0;36mquick_execute\u001b[1;34m(op_name, num_outputs, inputs, attrs, ctx, name)\u001b[0m\n\u001b[0;32m     65\u001b[0m     \u001b[1;32melse\u001b[0m\u001b[1;33m:\u001b[0m\u001b[1;33m\u001b[0m\u001b[1;33m\u001b[0m\u001b[0m\n\u001b[0;32m     66\u001b[0m       \u001b[0mmessage\u001b[0m \u001b[1;33m=\u001b[0m \u001b[0me\u001b[0m\u001b[1;33m.\u001b[0m\u001b[0mmessage\u001b[0m\u001b[1;33m\u001b[0m\u001b[1;33m\u001b[0m\u001b[0m\n\u001b[1;32m---> 67\u001b[1;33m     \u001b[0msix\u001b[0m\u001b[1;33m.\u001b[0m\u001b[0mraise_from\u001b[0m\u001b[1;33m(\u001b[0m\u001b[0mcore\u001b[0m\u001b[1;33m.\u001b[0m\u001b[0m_status_to_exception\u001b[0m\u001b[1;33m(\u001b[0m\u001b[0me\u001b[0m\u001b[1;33m.\u001b[0m\u001b[0mcode\u001b[0m\u001b[1;33m,\u001b[0m \u001b[0mmessage\u001b[0m\u001b[1;33m)\u001b[0m\u001b[1;33m,\u001b[0m \u001b[1;32mNone\u001b[0m\u001b[1;33m)\u001b[0m\u001b[1;33m\u001b[0m\u001b[1;33m\u001b[0m\u001b[0m\n\u001b[0m\u001b[0;32m     68\u001b[0m   \u001b[1;32mexcept\u001b[0m \u001b[0mTypeError\u001b[0m \u001b[1;32mas\u001b[0m \u001b[0me\u001b[0m\u001b[1;33m:\u001b[0m\u001b[1;33m\u001b[0m\u001b[1;33m\u001b[0m\u001b[0m\n\u001b[0;32m     69\u001b[0m     keras_symbolic_tensors = [\n",
      "\u001b[1;32mF:\\program\\miniconda3\\envs\\ohm379\\lib\\site-packages\\six.py\u001b[0m in \u001b[0;36mraise_from\u001b[1;34m(value, from_value)\u001b[0m\n",
      "\u001b[1;31mUnknownError\u001b[0m:  Failed to get convolution algorithm. This is probably because cuDNN failed to initialize, so try looking to see if a warning log message was printed above.\n\t [[node conv_lstm_1_4/convolution (defined at F:\\program\\miniconda3\\envs\\ohm379\\lib\\site-packages\\keras\\backend\\tensorflow_backend.py:3009) ]] [Op:__inference_keras_scratch_graph_16537]\n\nFunction call stack:\nkeras_scratch_graph\n"
     ]
    }
   ],
   "source": [
    "# create ConvLSTM\n",
    "n_timesteps = trainX_re.shape[1]\n",
    "output_timesteps = 15\n",
    "model = Sequential()\n",
    "model.add(BatchNormalization(name = 'batch_norm_0', input_shape = (n_timesteps, trainX_re.shape[2], trainX_re.shape[3], 1)))\n",
    "model.add(ConvLSTM2D(name ='conv_lstm_1',\n",
    "                     filters = 64, kernel_size = (10, 1),                       \n",
    "                     padding = 'same', \n",
    "                     return_sequences = True))\n",
    "    \n",
    "model.add(Dropout(0.21, name = 'dropout_1'))\n",
    "model.add(BatchNormalization(name = 'batch_norm_1'))\n",
    "\n",
    "model.add(ConvLSTM2D(name ='conv_lstm_2',\n",
    "                     filters = 64, kernel_size = (5, 1), \n",
    "                     padding='same',\n",
    "                     return_sequences = False))\n",
    "    \n",
    "model.add(Dropout(0.20, name = 'dropout_2'))\n",
    "model.add(BatchNormalization(name = 'batch_norm_2'))\n",
    "    \n",
    "model.add(Flatten())\n",
    "model.add(RepeatVector(output_timesteps))\n",
    "model.add(Reshape((output_timesteps, 1, 2, 64)))\n",
    "\n",
    "model.add(ConvLSTM2D(name ='conv_lstm_3',\n",
    "                     filters = 64, kernel_size = (10, 1), \n",
    "                     padding='same',\n",
    "                     return_sequences = True))\n",
    "    \n",
    "model.add(Dropout(0.1, name = 'dropout_3'))\n",
    "model.add(BatchNormalization(name = 'batch_norm_3'))\n",
    "    \n",
    "model.add(ConvLSTM2D(name ='conv_lstm_4',\n",
    "                     filters = 64, kernel_size = (5, 1), \n",
    "                     padding='same',\n",
    "                     return_sequences = True))\n",
    "    \n",
    "model.add(TimeDistributed(Dense(units=1, name = 'dense_1', activation = 'relu')))\n",
    "#model.add(Dense(units=1, name = 'dense_2'))\n",
    "\n",
    "#optimizer = RMSprop() #lr=0.0001, rho=0.9, epsilon=1e-08, decay=0.9)\n",
    "#model.compile(loss = \"mse\", optimizer = optimizer)\n",
    "model.summary()\n",
    "model.compile(loss='mean_squared_error', optimizer='adam', metrics=['mae', 'mape'])\n",
    "model.fit(trainX_re, trainY_re, epochs=70, batch_size=16)"
   ]
  },
  {
   "cell_type": "code",
   "execution_count": 5,
   "metadata": {},
   "outputs": [
    {
     "name": "stdout",
     "output_type": "stream",
     "text": [
      "Model: \"sequential\"\n",
      "_________________________________________________________________\n",
      "Layer (type)                 Output Shape              Param #   \n",
      "=================================================================\n",
      "batch_norm_0 (BatchNormaliza (None, 3, 10, 2, 1)       4         \n",
      "_________________________________________________________________\n",
      "conv_lstm_1 (ConvLSTM2D)     (None, 3, 10, 2, 64)      166656    \n",
      "_________________________________________________________________\n",
      "dropout_1 (Dropout)          (None, 3, 10, 2, 64)      0         \n",
      "_________________________________________________________________\n",
      "batch_norm_1 (BatchNormaliza (None, 3, 10, 2, 64)      256       \n",
      "_________________________________________________________________\n",
      "conv_lstm_2 (ConvLSTM2D)     (None, 10, 2, 64)         164096    \n",
      "_________________________________________________________________\n",
      "dropout_2 (Dropout)          (None, 10, 2, 64)         0         \n",
      "_________________________________________________________________\n",
      "batch_norm_2 (BatchNormaliza (None, 10, 2, 64)         256       \n",
      "_________________________________________________________________\n",
      "flatten (Flatten)            (None, 1280)              0         \n",
      "_________________________________________________________________\n",
      "repeat_vector (RepeatVector) (None, 1, 1280)           0         \n",
      "_________________________________________________________________\n",
      "reshape (Reshape)            (None, 1, 1, 2, 640)      0         \n",
      "_________________________________________________________________\n",
      "conv_lstm_3 (ConvLSTM2D)     (None, 1, 1, 2, 64)       1802496   \n",
      "_________________________________________________________________\n",
      "dropout_3 (Dropout)          (None, 1, 1, 2, 64)       0         \n",
      "_________________________________________________________________\n",
      "batch_norm_3 (BatchNormaliza (None, 1, 1, 2, 64)       256       \n",
      "_________________________________________________________________\n",
      "conv_lstm_4 (ConvLSTM2D)     (None, 1, 1, 2, 64)       164096    \n",
      "_________________________________________________________________\n",
      "time_distributed (TimeDistri (None, 1, 1, 2, 1)        65        \n",
      "=================================================================\n",
      "Total params: 2,298,181\n",
      "Trainable params: 2,297,795\n",
      "Non-trainable params: 386\n",
      "_________________________________________________________________\n"
     ]
    }
   ],
   "source": [
    "loaded_model = tf.keras.models.load_model('C:/Users/Hailin/OneDrive/ドキュメント/熊大関連/尼崎研/EV-Bus/evBus-main/evBus-main/ConvLSTM_train60.h5')\n",
    "\n",
    "loaded_model.summary()"
   ]
  },
  {
   "cell_type": "code",
   "execution_count": 6,
   "metadata": {},
   "outputs": [
    {
     "name": "stdout",
     "output_type": "stream",
     "text": [
      "(28481, 3, 10, 2, 1)\n",
      "(28481, 1, 1, 2, 1)\n"
     ]
    }
   ],
   "source": [
    "print(testX.shape)\n",
    "print(testY.shape)"
   ]
  },
  {
   "cell_type": "code",
   "execution_count": 11,
   "metadata": {},
   "outputs": [
    {
     "name": "stdout",
     "output_type": "stream",
     "text": [
      "[[0.18536377 0.18566895]\n",
      " [0.18591309 0.18603516]\n",
      " [0.18609619 0.18603516]\n",
      " [0.18603516 0.18603516]\n",
      " [0.18603516 0.18603516]\n",
      " [0.18603516 0.18603516]\n",
      " [0.18603516 0.18603516]\n",
      " [0.18603516 0.18603516]\n",
      " [0.18603516 0.18609619]\n",
      " [0.18621826 0.1862793 ]\n",
      " [0.1864624  0.18682861]\n",
      " [0.18719482 0.18756104]\n",
      " [0.18804932 0.18859863]\n",
      " [0.18933105 0.19006348]\n",
      " [0.19091797 0.19189453]\n",
      " [0.07702637 0.07739258]\n",
      " [0.07751465 0.07763672]\n",
      " [0.07763672 0.07763672]\n",
      " [0.07763672 0.07763672]\n",
      " [0.07763672 0.07763672]\n",
      " [0.07763672 0.07763672]\n",
      " [0.07763672 0.07763672]\n",
      " [0.07763672 0.07763672]\n",
      " [0.07763672 0.07775879]\n",
      " [0.07775879 0.07788086]\n",
      " [0.07800293 0.07824707]\n",
      " [0.07861328 0.07885742]\n",
      " [0.07922363 0.07958984]\n",
      " [0.08007812 0.08044434]\n",
      " [0.08068848 0.08117676]]\n",
      "[[0.19189453 0.08117676]]\n"
     ]
    }
   ],
   "source": [
    "print(testX[1])\n",
    "print(testY[0])"
   ]
  },
  {
   "cell_type": "code",
   "execution_count": null,
   "metadata": {},
   "outputs": [],
   "source": []
  }
 ],
 "metadata": {
  "kernelspec": {
   "display_name": "Python 3",
   "language": "python",
   "name": "python3"
  },
  "language_info": {
   "codemirror_mode": {
    "name": "ipython",
    "version": 3
   },
   "file_extension": ".py",
   "mimetype": "text/x-python",
   "name": "python",
   "nbconvert_exporter": "python",
   "pygments_lexer": "ipython3",
   "version": "3.7.9"
  }
 },
 "nbformat": 4,
 "nbformat_minor": 4
}
