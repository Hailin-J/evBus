{
 "cells": [
  {
   "cell_type": "code",
   "execution_count": null,
   "metadata": {},
   "outputs": [],
   "source": [
    "import numpy\n",
    "import matplotlib.pyplot as plt\n",
    "import pandas\n",
    "import math\n",
    "\n",
    "from sklearn.preprocessing import MinMaxScaler\n",
    "from sklearn.metrics import mean_squared_error\n",
    "\n",
    "import tensorflow as tf\n",
    "import keras\n",
    "\n",
    "from keras.models import Sequential\n",
    "from keras.layers import *\n",
    "from keras.layers.wrappers import *\n",
    "from keras.optimizers import RMSprop\n",
    "from keras.callbacks import CSVLogger, EarlyStopping\n",
    "import keras.backend.tensorflow_backend as ktf\n",
    "\n",
    "plt.style.use('ggplot')\n",
    "%matplotlib inline\n",
    "plt.rcParams['axes.facecolor'] = 'w'\n",
    "plt.rcParams['axes.labelcolor'] = 'k'\n",
    "plt.rcParams['axes.edgecolor'] = 'k'\n",
    "plt.rcParams['ytick.color'] = 'k'\n",
    "plt.rcParams['xtick.color'] = 'k'\n",
    "plt.rcParams['grid.color'] = (.7, .7, .7, 0)\n",
    "plt.rcParams['figure.figsize'] = (16, 10)\n",
    "\n",
    "print('numpy ver.: ' + numpy.__version__)\n",
    "print('pandas ver.: ' + pandas.__version__)\n",
    "print('tensorflow ver.: ' + tf.__version__) \n",
    "print('keras ver.: ' + keras.__version__)\n",
    "#データ読み込み\n",
    "dataframe = pandas.read_csv('C:/Users/kinkr/OneDrive/ドキュメント/熊大関連/尼崎研/EV-Bus/evBus-main/evBus-main/1589-stop.csv', usecols=[0,1,2], engine='python', skipfooter=1)"
   ]
  },
  {
   "cell_type": "code",
   "execution_count": 2,
   "metadata": {},
   "outputs": [],
   "source": [
    "dataframe[\"lat\"] = dataframe[\"lat\"].map(lambda x: x-35)\n",
    "dataframe[\"lon\"] = dataframe[\"lon\"].map(lambda x: x-139)\n",
    "dataframe = dataframe.round(10)"
   ]
  },
  {
   "cell_type": "code",
   "execution_count": 3,
   "metadata": {},
   "outputs": [
    {
     "name": "stdout",
     "output_type": "stream",
     "text": [
      "<bound method NDFrame.head of             lat       lon  stop\n",
      "0      0.459276  0.608063     0\n",
      "1      0.459276  0.608063     0\n",
      "2      0.459276  0.608063     0\n",
      "3      0.459276  0.608063     0\n",
      "4      0.459276  0.608063     0\n",
      "...         ...       ...   ...\n",
      "86394  0.459607  0.608588     0\n",
      "86395  0.459607  0.608588     0\n",
      "86396  0.459607  0.608588     0\n",
      "86397  0.459607  0.608588     0\n",
      "86398  0.459607  0.608588     0\n",
      "\n",
      "[86399 rows x 3 columns]>\n"
     ]
    }
   ],
   "source": [
    "print(dataframe.head)"
   ]
  },
  {
   "cell_type": "code",
   "execution_count": 4,
   "metadata": {},
   "outputs": [
    {
     "name": "stdout",
     "output_type": "stream",
     "text": [
      "[0.4592765 0.6080628 0.       ]\n"
     ]
    }
   ],
   "source": [
    "dataset = dataframe.values\n",
    "dataset = dataset.astype('float64')\n",
    "print(dataset[0])"
   ]
  },
  {
   "cell_type": "code",
   "execution_count": 5,
   "metadata": {},
   "outputs": [
    {
     "name": "stdout",
     "output_type": "stream",
     "text": [
      "2561\n",
      "2446\n",
      "2426\n",
      "1226\n"
     ]
    }
   ],
   "source": [
    "dataset_1 = dataset[25243:27804]\n",
    "dataset_2 = dataset[31047:33493]\n",
    "dataset_3 = dataset[38359:40785]\n",
    "print(len(dataset_1))\n",
    "print(len(dataset_2))\n",
    "print(len(dataset_3))\n",
    "\n",
    "\n",
    "# normalize the dataset\n",
    "scaler = MinMaxScaler(feature_range=(0, 1))\n",
    "dataset_1 = scaler.fit_transform(dataset_1)\n",
    "dataset_2 = scaler.fit_transform(dataset_2)\n",
    "dataset_3 = scaler.fit_transform(dataset_3)\n",
    "\n",
    "dataset3 = dataset_3[0:1200]\n",
    "test = dataset_3[1200:]\n",
    "# # split into train and test sets\n",
    "# train_size = int(len(dataset_real) * 0.67)\n",
    "# test_size = len(dataset_real) - train_size\n",
    "# train, test = dataset_real[0:train_size,:], dataset_real[train_size:len(dataset_real),:]\n",
    "print(len(test))"
   ]
  },
  {
   "cell_type": "code",
   "execution_count": 6,
   "metadata": {},
   "outputs": [
    {
     "name": "stdout",
     "output_type": "stream",
     "text": [
      "[0.4592765 0.6080628 0.       ]\n"
     ]
    }
   ],
   "source": [
    "print(dataset[0])"
   ]
  },
  {
   "cell_type": "code",
   "execution_count": 7,
   "metadata": {},
   "outputs": [
    {
     "name": "stdout",
     "output_type": "stream",
     "text": [
      "(2561, 3)\n",
      "[0.99919749 0.01351687 1.        ]\n"
     ]
    }
   ],
   "source": [
    "print(dataset_1.shape)\n",
    "print(dataset_1[0])"
   ]
  },
  {
   "cell_type": "code",
   "execution_count": 8,
   "metadata": {},
   "outputs": [
    {
     "name": "stdout",
     "output_type": "stream",
     "text": [
      "(2493, 3, 60)\n",
      "(2493, 3, 1)\n",
      "(2378, 3, 60)\n",
      "(2378, 3, 1)\n",
      "(1132, 3, 60)\n",
      "(1132, 3, 1)\n"
     ]
    }
   ],
   "source": [
    "# convert an array of values into a dataset matrix\n",
    "# if you give look_back 3, a part of the array will be like this: Jan, Feb, Mar\n",
    "def create_dataset(dataset, look_back=1, look_forward=1, t=1):\n",
    "    dataX, dataY = [], []\n",
    "    for i in range(0, (len(dataset)-look_back-look_forward-t-1), 1):\n",
    "        xset, yset = [], []\n",
    "        for j in range(dataset.shape[1]):\n",
    "            a = dataset[i:(i+look_back), j]\n",
    "            xset.append(a)\n",
    "        for j in range(dataset.shape[1]):\n",
    "            b = dataset[(i+look_back+t):(look_forward+look_back+t+i), j]\n",
    "            yset.append(b)\n",
    "        dataX.append(xset)\n",
    "        dataY.append(yset)\n",
    "    return numpy.array(dataX), numpy.array(dataY)\n",
    "\n",
    "# use look_back --> predict look_forward after t seconds\n",
    "look_back = 60\n",
    "look_forward = 1\n",
    "t = 6\n",
    "\n",
    "trainX_1, trainY_1 = create_dataset(dataset_1, look_back, look_forward, t)\n",
    "trainX_2, trainY_2 = create_dataset(dataset_2, look_back, look_forward, t)\n",
    "trainX_3, trainY_3 = create_dataset(dataset3, look_back, look_forward, t)\n",
    "\n",
    "testX, testY = create_dataset(test, look_back, look_forward, t)\n",
    "print(trainX_1.shape)\n",
    "print(trainY_1.shape)\n",
    "print(trainX_2.shape)\n",
    "print(trainY_2.shape)\n",
    "print(trainX_3.shape)\n",
    "print(trainY_3.shape)"
   ]
  },
  {
   "cell_type": "code",
   "execution_count": 9,
   "metadata": {},
   "outputs": [
    {
     "name": "stdout",
     "output_type": "stream",
     "text": [
      "(4871, 3, 60)\n",
      "(4871, 3, 1)\n"
     ]
    }
   ],
   "source": [
    "# concatenate test\n",
    "trainX_12 = numpy.concatenate((trainX_1, trainX_2), axis=0)\n",
    "trainY_12 = numpy.concatenate((trainY_1, trainY_2), axis=0)\n",
    "print(trainX_12.shape)\n",
    "print(trainY_12.shape)"
   ]
  },
  {
   "cell_type": "code",
   "execution_count": 10,
   "metadata": {},
   "outputs": [
    {
     "name": "stdout",
     "output_type": "stream",
     "text": [
      "(6003, 3, 60)\n",
      "(6003, 3, 1)\n"
     ]
    }
   ],
   "source": [
    "trainX = numpy.concatenate((trainX_12,trainX_3), axis=0)\n",
    "trainY = numpy.concatenate((trainY_12,trainY_3), axis=0)\n",
    "print(trainX.shape)\n",
    "print(trainY.shape)"
   ]
  },
  {
   "cell_type": "code",
   "execution_count": 11,
   "metadata": {},
   "outputs": [
    {
     "name": "stdout",
     "output_type": "stream",
     "text": [
      "(1158, 3, 60)\n",
      "(1158, 3, 1)\n"
     ]
    }
   ],
   "source": [
    "print(testX.shape)\n",
    "print(testY.shape)"
   ]
  },
  {
   "cell_type": "code",
   "execution_count": 12,
   "metadata": {},
   "outputs": [
    {
     "name": "stdout",
     "output_type": "stream",
     "text": [
      "(6003, 60, 3)\n",
      "(6003, 1, 3)\n",
      "(1158, 60, 3)\n",
      "(1158, 1, 3)\n"
     ]
    }
   ],
   "source": [
    "trainX_trans = trainX.transpose((0, 2, 1))\n",
    "trainY_trans = trainY.transpose((0, 2, 1))\n",
    "testX_trans = testX.transpose((0, 2, 1))\n",
    "testY_trans = testY.transpose((0, 2, 1))\n",
    "\n",
    "print(trainX_trans.shape)\n",
    "print(trainY_trans.shape)\n",
    "print(testX_trans.shape)\n",
    "print(testY_trans.shape)"
   ]
  },
  {
   "cell_type": "code",
   "execution_count": 13,
   "metadata": {},
   "outputs": [
    {
     "name": "stdout",
     "output_type": "stream",
     "text": [
      "(6003, 60, 1, 3, 1)\n",
      "(6003, 1, 1, 3, 1)\n",
      "(1158, 60, 1, 3, 1)\n",
      "(1158, 1, 1, 3, 1)\n"
     ]
    }
   ],
   "source": [
    "trainX_re = trainX_trans.reshape((trainX_trans.shape[0], 60, 1, trainX_trans.shape[2], 1))\n",
    "trainY_re = trainY_trans.reshape((trainY_trans.shape[0], 1, 1, trainY_trans.shape[2], 1))\n",
    "testX_re = testX_trans.reshape((testX_trans.shape[0], 60, 1, testX_trans.shape[2], 1))\n",
    "testY_re = testY_trans.reshape((testY_trans.shape[0], 1, 1, testY_trans.shape[2], 1))\n",
    "\n",
    "print(trainX_re.shape)\n",
    "print(trainY_re.shape)\n",
    "print(testX_re.shape)\n",
    "print(testY_re.shape)"
   ]
  },
  {
   "cell_type": "code",
   "execution_count": 14,
   "metadata": {},
   "outputs": [
    {
     "name": "stdout",
     "output_type": "stream",
     "text": [
      "[[0.99919749]\n",
      " [0.01351687]\n",
      " [1.        ]]\n"
     ]
    }
   ],
   "source": [
    "print(trainX_re[0,0,0])"
   ]
  },
  {
   "cell_type": "code",
   "execution_count": 15,
   "metadata": {
    "scrolled": true
   },
   "outputs": [
    {
     "name": "stdout",
     "output_type": "stream",
     "text": [
      "Model: \"sequential_1\"\n",
      "_________________________________________________________________\n",
      "Layer (type)                 Output Shape              Param #   \n",
      "=================================================================\n",
      "batch_norm_0 (BatchNormaliza (None, 60, 1, 3, 1)       4         \n",
      "_________________________________________________________________\n",
      "conv_lstm_1 (ConvLSTM2D)     (None, 60, 1, 3, 64)      166656    \n",
      "_________________________________________________________________\n",
      "dropout_1 (Dropout)          (None, 60, 1, 3, 64)      0         \n",
      "_________________________________________________________________\n",
      "batch_norm_1 (BatchNormaliza (None, 60, 1, 3, 64)      256       \n",
      "_________________________________________________________________\n",
      "conv_lstm_3 (ConvLSTM2D)     (None, 1, 3, 64)          164096    \n",
      "_________________________________________________________________\n",
      "dropout_3 (Dropout)          (None, 1, 3, 64)          0         \n",
      "_________________________________________________________________\n",
      "batch_norm_3 (BatchNormaliza (None, 1, 3, 64)          256       \n",
      "_________________________________________________________________\n",
      "flatten_1 (Flatten)          (None, 192)               0         \n",
      "_________________________________________________________________\n",
      "repeat_vector_1 (RepeatVecto (None, 1, 192)            0         \n",
      "_________________________________________________________________\n",
      "reshape_1 (Reshape)          (None, 1, 1, 3, 64)       0         \n",
      "_________________________________________________________________\n",
      "conv_lstm_4 (ConvLSTM2D)     (None, 1, 1, 3, 64)       327936    \n",
      "_________________________________________________________________\n",
      "dropout_4 (Dropout)          (None, 1, 1, 3, 64)       0         \n",
      "_________________________________________________________________\n",
      "batch_norm_4 (BatchNormaliza (None, 1, 1, 3, 64)       256       \n",
      "_________________________________________________________________\n",
      "conv_lstm_6 (ConvLSTM2D)     (None, 1, 1, 3, 64)       164096    \n",
      "_________________________________________________________________\n",
      "time_distributed_1 (TimeDist (None, 1, 1, 3, 1)        65        \n",
      "=================================================================\n",
      "Total params: 823,621\n",
      "Trainable params: 823,235\n",
      "Non-trainable params: 386\n",
      "_________________________________________________________________\n"
     ]
    }
   ],
   "source": [
    "# create ConvLSTM\n",
    "n_timesteps = trainX_re.shape[1]\n",
    "output_timesteps = 1\n",
    "model = Sequential()\n",
    "model.add(BatchNormalization(name = 'batch_norm_0', input_shape = (n_timesteps, trainX_re.shape[2], trainX_re.shape[3], 1)))\n",
    "model.add(ConvLSTM2D(name ='conv_lstm_1',\n",
    "                     filters = 64, kernel_size = (10, 1),                       \n",
    "                     padding = 'same', \n",
    "                     return_sequences = True,  input_shape = (n_timesteps, trainX_re.shape[2], trainX_re.shape[3], 1)))\n",
    "    \n",
    "model.add(Dropout(0.21, name = 'dropout_1'))\n",
    "model.add(BatchNormalization(name = 'batch_norm_1'))\n",
    "\n",
    "model.add(ConvLSTM2D(name ='conv_lstm_3',\n",
    "                     filters = 64, kernel_size = (5, 1), \n",
    "                     padding='same',\n",
    "                     return_sequences = False))\n",
    "    \n",
    "model.add(Dropout(0.20, name = 'dropout_3'))\n",
    "model.add(BatchNormalization(name = 'batch_norm_3'))\n",
    "    \n",
    "model.add(Flatten())\n",
    "model.add(RepeatVector(output_timesteps))\n",
    "model.add(Reshape((output_timesteps, 1, 3, 64)))\n",
    "\n",
    "model.add(ConvLSTM2D(name ='conv_lstm_4',\n",
    "                     filters = 64, kernel_size = (10, 1), \n",
    "                     padding='same',\n",
    "                     return_sequences = True))\n",
    "    \n",
    "model.add(Dropout(0.1, name = 'dropout_4'))\n",
    "model.add(BatchNormalization(name = 'batch_norm_4'))\n",
    "\n",
    "    \n",
    "model.add(ConvLSTM2D(name ='conv_lstm_6',\n",
    "                     filters = 64, kernel_size = (5, 1), \n",
    "                     padding='same',\n",
    "                     return_sequences = True))\n",
    "    \n",
    "model.add(TimeDistributed(Dense(units=1, name = 'dense_1', activation = 'tanh')))\n",
    "#model.add(Dense(units=1, name = 'dense_2'))\n",
    "\n",
    "# optimizer = RMSprop() #lr=0.0001, rho=0.9, epsilon=1e-08, decay=0.9)\n",
    "model.compile(loss = \"mse\", optimizer='adam', metrics=['mae', 'mape'])\n",
    "model.summary()\n",
    "# model.compile(loss='mean_squared_error', optimizer='adam', metrics=['mae', 'mape'])\n",
    "# model.fit(trainX_re, trainY_re, epochs=150, batch_size=64)"
   ]
  },
  {
   "cell_type": "code",
   "execution_count": 16,
   "metadata": {
    "scrolled": true
   },
   "outputs": [
    {
     "name": "stdout",
     "output_type": "stream",
     "text": [
      "Train on 5402 samples, validate on 601 samples\n",
      "Epoch 1/40\n",
      "5402/5402 [==============================] - 27s 5ms/step - loss: 0.0676 - mae: 0.1680 - mape: 40845216.0000 - val_loss: 0.1133 - val_mae: 0.2469 - val_mape: 37631868.0000\n",
      "Epoch 2/40\n",
      "5402/5402 [==============================] - 22s 4ms/step - loss: 0.0425 - mae: 0.1266 - mape: 31371746.0000 - val_loss: 0.0911 - val_mae: 0.2390 - val_mape: 58677820.0000\n",
      "Epoch 3/40\n",
      "5402/5402 [==============================] - 22s 4ms/step - loss: 0.0417 - mae: 0.1276 - mape: 31725140.0000 - val_loss: 0.0777 - val_mae: 0.2314 - val_mape: 66061080.0000\n",
      "Epoch 4/40\n",
      "5402/5402 [==============================] - 22s 4ms/step - loss: 0.0407 - mae: 0.1267 - mape: 33381088.0000 - val_loss: 0.0561 - val_mae: 0.2037 - val_mape: 66925704.0000\n",
      "Epoch 5/40\n",
      "5402/5402 [==============================] - 22s 4ms/step - loss: 0.0400 - mae: 0.1259 - mape: 30921532.0000 - val_loss: 0.0311 - val_mae: 0.1336 - val_mape: 51378884.0000\n",
      "Epoch 6/40\n",
      "5402/5402 [==============================] - 22s 4ms/step - loss: 0.0389 - mae: 0.1245 - mape: 30530538.0000 - val_loss: 0.0234 - val_mae: 0.0753 - val_mape: 40921708.0000\n",
      "Epoch 7/40\n",
      "5402/5402 [==============================] - 22s 4ms/step - loss: 0.0419 - mae: 0.1379 - mape: 34103388.0000 - val_loss: 0.0322 - val_mae: 0.1146 - val_mape: 21416056.0000\n",
      "Epoch 8/40\n",
      "5402/5402 [==============================] - 22s 4ms/step - loss: 0.0430 - mae: 0.1384 - mape: 30640078.0000 - val_loss: 0.0314 - val_mae: 0.1195 - val_mape: 13271823.0000\n",
      "Epoch 9/40\n",
      "5402/5402 [==============================] - 22s 4ms/step - loss: 0.0411 - mae: 0.1333 - mape: 28797104.0000 - val_loss: 0.0313 - val_mae: 0.1284 - val_mape: 19186850.0000\n",
      "Epoch 10/40\n",
      "5402/5402 [==============================] - 22s 4ms/step - loss: 0.0404 - mae: 0.1321 - mape: 27764644.0000 - val_loss: 0.0279 - val_mae: 0.1025 - val_mape: 12325718.0000\n",
      "Epoch 11/40\n",
      "5402/5402 [==============================] - 22s 4ms/step - loss: 0.0408 - mae: 0.1316 - mape: 27180872.0000 - val_loss: 0.0244 - val_mae: 0.1038 - val_mape: 34492192.0000\n",
      "Epoch 12/40\n",
      "5402/5402 [==============================] - 21s 4ms/step - loss: 0.0385 - mae: 0.1284 - mape: 27310074.0000 - val_loss: 0.0211 - val_mae: 0.0795 - val_mape: 23006820.0000\n",
      "Epoch 13/40\n",
      "5402/5402 [==============================] - 21s 4ms/step - loss: 0.0363 - mae: 0.1219 - mape: 25304830.0000 - val_loss: 0.0280 - val_mae: 0.1156 - val_mape: 33589888.0000\n",
      "Epoch 14/40\n",
      "5402/5402 [==============================] - 22s 4ms/step - loss: 0.0345 - mae: 0.1166 - mape: 25079794.0000 - val_loss: 0.0283 - val_mae: 0.1119 - val_mape: 40035652.0000\n",
      "Epoch 15/40\n",
      "5402/5402 [==============================] - 22s 4ms/step - loss: 0.0334 - mae: 0.1140 - mape: 23705562.0000 - val_loss: 0.0261 - val_mae: 0.0844 - val_mape: 32127582.0000\n",
      "Epoch 16/40\n",
      "5402/5402 [==============================] - 21s 4ms/step - loss: 0.0347 - mae: 0.1176 - mape: 24244248.0000 - val_loss: 0.0346 - val_mae: 0.1367 - val_mape: 55362884.0000\n",
      "Epoch 17/40\n",
      "5402/5402 [==============================] - 22s 4ms/step - loss: 0.0326 - mae: 0.1120 - mape: 24115530.0000 - val_loss: 0.0287 - val_mae: 0.1090 - val_mape: 39878884.0000\n",
      "Epoch 18/40\n",
      "5402/5402 [==============================] - 22s 4ms/step - loss: 0.0307 - mae: 0.1058 - mape: 24452062.0000 - val_loss: 0.0257 - val_mae: 0.1069 - val_mape: 45454120.0000\n",
      "Epoch 19/40\n",
      "5402/5402 [==============================] - 21s 4ms/step - loss: 0.0304 - mae: 0.1021 - mape: 24579240.0000 - val_loss: 0.0323 - val_mae: 0.1200 - val_mape: 43394168.0000\n",
      "Epoch 20/40\n",
      "5402/5402 [==============================] - 22s 4ms/step - loss: 0.0294 - mae: 0.1025 - mape: 23769062.0000 - val_loss: 0.0326 - val_mae: 0.1240 - val_mape: 44123456.0000\n",
      "Epoch 21/40\n",
      "5402/5402 [==============================] - 21s 4ms/step - loss: 0.0291 - mae: 0.1004 - mape: 23340928.0000 - val_loss: 0.0346 - val_mae: 0.1253 - val_mape: 52508572.0000\n",
      "Epoch 22/40\n",
      "5402/5402 [==============================] - 22s 4ms/step - loss: 0.0281 - mae: 0.0958 - mape: 22532022.0000 - val_loss: 0.0327 - val_mae: 0.1245 - val_mape: 49964480.0000\n",
      "Epoch 23/40\n",
      "5402/5402 [==============================] - 22s 4ms/step - loss: 0.0275 - mae: 0.0968 - mape: 22700526.0000 - val_loss: 0.0395 - val_mae: 0.1365 - val_mape: 62477696.0000\n",
      "Epoch 24/40\n",
      "5402/5402 [==============================] - 22s 4ms/step - loss: 0.0271 - mae: 0.0959 - mape: 23528478.0000 - val_loss: 0.0297 - val_mae: 0.1035 - val_mape: 29136920.0000\n",
      "Epoch 25/40\n",
      "5402/5402 [==============================] - 21s 4ms/step - loss: 0.0281 - mae: 0.0992 - mape: 23111444.0000 - val_loss: 0.0326 - val_mae: 0.1252 - val_mape: 48646736.0000\n",
      "Epoch 26/40\n",
      "5402/5402 [==============================] - 22s 4ms/step - loss: 0.0264 - mae: 0.0942 - mape: 22746446.0000 - val_loss: 0.0280 - val_mae: 0.1034 - val_mape: 36334968.0000\n",
      "Epoch 27/40\n",
      "5402/5402 [==============================] - 22s 4ms/step - loss: 0.0252 - mae: 0.0876 - mape: 22051056.0000 - val_loss: 0.0306 - val_mae: 0.1159 - val_mape: 54788040.0000\n",
      "Epoch 28/40\n",
      "5402/5402 [==============================] - 21s 4ms/step - loss: 0.0258 - mae: 0.0896 - mape: 22659970.0000 - val_loss: 0.0341 - val_mae: 0.1220 - val_mape: 54403120.0000\n",
      "Epoch 29/40\n",
      "5402/5402 [==============================] - 22s 4ms/step - loss: 0.0250 - mae: 0.0857 - mape: 21887172.0000 - val_loss: 0.0353 - val_mae: 0.1260 - val_mape: 58817900.0000\n",
      "Epoch 30/40\n",
      "5402/5402 [==============================] - 22s 4ms/step - loss: 0.0241 - mae: 0.0832 - mape: 21721770.0000 - val_loss: 0.0372 - val_mae: 0.1229 - val_mape: 65817372.0000\n",
      "Epoch 31/40\n",
      "5402/5402 [==============================] - 22s 4ms/step - loss: 0.0264 - mae: 0.0904 - mape: 21622952.0000 - val_loss: 0.0462 - val_mae: 0.1454 - val_mape: 77723416.0000\n",
      "Epoch 32/40\n",
      "5402/5402 [==============================] - 21s 4ms/step - loss: 0.0252 - mae: 0.0873 - mape: 21777660.0000 - val_loss: 0.0345 - val_mae: 0.1260 - val_mape: 54544872.0000\n",
      "Epoch 33/40\n",
      "5402/5402 [==============================] - 22s 4ms/step - loss: 0.0235 - mae: 0.0824 - mape: 21503876.0000 - val_loss: 0.0327 - val_mae: 0.1105 - val_mape: 46070912.0000\n",
      "Epoch 34/40\n",
      "5402/5402 [==============================] - 22s 4ms/step - loss: 0.0234 - mae: 0.0773 - mape: 21316450.0000 - val_loss: 0.0296 - val_mae: 0.1003 - val_mape: 53725088.0000\n",
      "Epoch 35/40\n",
      "5402/5402 [==============================] - 22s 4ms/step - loss: 0.0227 - mae: 0.0778 - mape: 20537524.0000 - val_loss: 0.0299 - val_mae: 0.1057 - val_mape: 38986432.0000\n",
      "Epoch 36/40\n",
      "5402/5402 [==============================] - 22s 4ms/step - loss: 0.0226 - mae: 0.0771 - mape: 21260842.0000 - val_loss: 0.0403 - val_mae: 0.1219 - val_mape: 73999488.0000\n",
      "Epoch 37/40\n",
      "5402/5402 [==============================] - 21s 4ms/step - loss: 0.0227 - mae: 0.0775 - mape: 21168664.0000 - val_loss: 0.0411 - val_mae: 0.1320 - val_mape: 68683976.0000\n",
      "Epoch 38/40\n",
      "5402/5402 [==============================] - 22s 4ms/step - loss: 0.0226 - mae: 0.0752 - mape: 20520428.0000 - val_loss: 0.0344 - val_mae: 0.1146 - val_mape: 64373032.0000\n",
      "Epoch 39/40\n",
      "5402/5402 [==============================] - 22s 4ms/step - loss: 0.0221 - mae: 0.0751 - mape: 20851190.0000 - val_loss: 0.0298 - val_mae: 0.1080 - val_mape: 43757548.0000\n",
      "Epoch 40/40\n",
      "5402/5402 [==============================] - 22s 4ms/step - loss: 0.0218 - mae: 0.0749 - mape: 20866286.0000 - val_loss: 0.0338 - val_mae: 0.1185 - val_mape: 62165104.0000\n"
     ]
    },
    {
     "data": {
      "text/plain": [
       "<keras.callbacks.callbacks.History at 0x21eedbbf648>"
      ]
     },
     "execution_count": 16,
     "metadata": {},
     "output_type": "execute_result"
    }
   ],
   "source": [
    "model.compile(loss='mean_squared_error', optimizer='adam', metrics=['mae', 'mape'])\n",
    "model.fit(trainX_re, trainY_re, epochs=40, validation_split=0.1, shuffle=False, batch_size=64)"
   ]
  },
  {
   "cell_type": "code",
   "execution_count": 17,
   "metadata": {},
   "outputs": [],
   "source": [
    "model.save('C:/Users/Hailin/OneDrive/ドキュメント/熊大関連/尼崎研/EV-Bus/evBus-main/evBus-main/Conv-LSTM-withStopInfo-ver15-Y-U.h5')\n",
    "# model.save('C:/Users/kinkr/OneDrive/ドキュメント/熊大関連/尼崎研/EV-Bus/evBus-main/evBus-main/ConvLSTM_train70_version04.h5')"
   ]
  },
  {
   "cell_type": "code",
   "execution_count": 19,
   "metadata": {},
   "outputs": [],
   "source": [
    "model = tf.keras.models.load_model('C:/Users/hailin/OneDrive/ドキュメント/熊大関連/尼崎研/EV-Bus/evBus-main/evBus-main/Conv-LSTM-withStopInfo-ver15-Y-U.h5')"
   ]
  },
  {
   "cell_type": "code",
   "execution_count": 20,
   "metadata": {},
   "outputs": [
    {
     "name": "stdout",
     "output_type": "stream",
     "text": [
      "(1158, 60, 3)\n",
      "(1158, 1, 3)\n",
      "[[[0.5735277 ]\n",
      "  [0.29520932]\n",
      "  [0.        ]]]\n"
     ]
    }
   ],
   "source": [
    "print(testX_trans.shape)\n",
    "print(testY_trans.shape)\n",
    "print(testX_re[0,0])"
   ]
  },
  {
   "cell_type": "code",
   "execution_count": 39,
   "metadata": {},
   "outputs": [],
   "source": [
    "testPredict = model.predict(testX_re)"
   ]
  },
  {
   "cell_type": "code",
   "execution_count": 40,
   "metadata": {},
   "outputs": [
    {
     "name": "stdout",
     "output_type": "stream",
     "text": [
      "(1158, 1, 1, 3, 1)\n",
      "[[ 0.5949518 ]\n",
      " [ 0.35514233]\n",
      " [-0.00584949]]\n"
     ]
    }
   ],
   "source": [
    "print(testPredict.shape)\n",
    "print(testPredict[0,0,0])"
   ]
  },
  {
   "cell_type": "code",
   "execution_count": 41,
   "metadata": {},
   "outputs": [
    {
     "name": "stdout",
     "output_type": "stream",
     "text": [
      "(1158, 3)\n",
      "(1158, 3)\n",
      "<class 'numpy.ndarray'>\n"
     ]
    }
   ],
   "source": [
    "testPredict_reshaped = testPredict.reshape((-1,3))\n",
    "testY_reshaped = testY_re.reshape((-1,3))\n",
    "print(testPredict_reshaped.shape)\n",
    "print(testY_reshaped.shape)\n",
    "print(type(testPredict_reshaped))"
   ]
  },
  {
   "cell_type": "code",
   "execution_count": 24,
   "metadata": {},
   "outputs": [],
   "source": [
    "# testPredict_reshaped_plus= numpy.insert(testPredict_reshaped, 2, values=1, axis=1)\n",
    "# testY_reshaped_plus = numpy.insert(testY_reshaped, 2, values=1, axis=1)\n",
    "# print(testY_reshaped.shape)\n",
    "# print(testPredict_reshaped.shape)"
   ]
  },
  {
   "cell_type": "code",
   "execution_count": 42,
   "metadata": {},
   "outputs": [],
   "source": [
    "testPredict_reshaped_inv = scaler.inverse_transform(testPredict_reshaped)\n",
    "testY_reshaped_inv = scaler.inverse_transform(testY_reshaped)"
   ]
  },
  {
   "cell_type": "code",
   "execution_count": 43,
   "metadata": {},
   "outputs": [
    {
     "name": "stdout",
     "output_type": "stream",
     "text": [
      "[ 0.4494525   0.6459872  -0.00584949]\n",
      "[0.44743706 0.6460159  0.        ]\n"
     ]
    }
   ],
   "source": [
    "print(testPredict_reshaped_inv[0])\n",
    "print(testY_reshaped_inv[0])"
   ]
  },
  {
   "cell_type": "code",
   "execution_count": 21,
   "metadata": {},
   "outputs": [
    {
     "data": {
      "image/png": "[encoded data removed]",
      "text/plain": [
       "<Figure size 432x288 with 1 Axes>"
      ]
     },
     "metadata": {
      "needs_background": "light"
     },
     "output_type": "display_data"
    }
   ],
   "source": [
    "import matplotlib as mpl\n",
    "from mpl_toolkits.mplot3d import Axes3D\n",
    "\n",
    "mpl.rcParams['legend.fontsize'] = 10\n",
    " \n",
    "fig = plt.figure()\n",
    "ax = fig.gca(projection='3d')\n",
    "ax.plot(range(len(testY_reshaped_inv)), testY_reshaped_inv[:,0], testY_reshaped_inv[:,1], label='GPS line')\n",
    "ax.plot(range(len(testPredict_reshaped_inv)), testPredict_reshaped_inv[:,0], testPredict_reshaped_inv[:,1], label='Predict line')\n",
    "ax.set_xlabel('Time')\n",
    "ax.legend()\n",
    "plt.title('Test Cluster')\n",
    "# plt.savefig(\"C:/Users/Hailin/OneDrive/ドキュメント/熊大関連/尼崎研/EV-Bus/evBus-main/evBus-main/Conv-LSTM/ConvLSTM-verson04.svg\", format=\"svg\")\n",
    " \n",
    "plt.show()"
   ]
  },
  {
   "cell_type": "code",
   "execution_count": 44,
   "metadata": {},
   "outputs": [
    {
     "data": {
      "image/png": "[encoded data removed]",
      "text/plain": [
       "<Figure size 432x288 with 1 Axes>"
      ]
     },
     "metadata": {
      "needs_background": "light"
     },
     "output_type": "display_data"
    }
   ],
   "source": [
    "plt.plot(range(len(testY_reshaped_inv)), testY_reshaped_inv[:,0], label='GPS line lat')\n",
    "plt.plot(range(len(testPredict_reshaped_inv)), testPredict_reshaped_inv[:,0], label='Predict line lat')\n",
    "plt.title('Test Cluster -latitude')\n",
    "\n",
    "plt.legend() \n",
    "\n",
    "# plt.savefig(\"C:/Users/kinkr/OneDrive/ドキュメント/熊大関連/尼崎研/EV-Bus/evBus-main/evBus-main/Conv-LSTM/Conv-LSTM-withStopInfo-ver02-Y-U-lat.svg\", format=\"svg\")\n",
    "plt.show()"
   ]
  },
  {
   "cell_type": "code",
   "execution_count": 45,
   "metadata": {},
   "outputs": [
    {
     "data": {
      "image/png": "[encoded data removed]",
      "text/plain": [
       "<Figure size 432x288 with 1 Axes>"
      ]
     },
     "metadata": {
      "needs_background": "light"
     },
     "output_type": "display_data"
    }
   ],
   "source": [
    "plt.plot(range(len(testY_reshaped_inv)), testY_reshaped_inv[:,1], label='GPS line lon')\n",
    "plt.plot(range(len(testPredict_reshaped_inv)), testPredict_reshaped_inv[:,1], label='Predict line lon')\n",
    "plt.title('Test Cluster -lontitude')\n",
    "\n",
    "plt.legend() \n",
    "\n",
    "# plt.savefig(\"C:/Users/kinkr/OneDrive/ドキュメント/熊大関連/尼崎研/EV-Bus/evBus-main/evBus-main/Conv-LSTM/Conv-LSTM-withStopInfo-ver02-Y-U-lon.svg\", format=\"svg\")\n",
    "plt.show()"
   ]
  },
  {
   "cell_type": "code",
   "execution_count": 46,
   "metadata": {},
   "outputs": [
    {
     "data": {
      "image/png": "[encoded data removed]",
      "text/plain": [
       "<Figure size 432x288 with 1 Axes>"
      ]
     },
     "metadata": {
      "needs_background": "light"
     },
     "output_type": "display_data"
    }
   ],
   "source": [
    "plt.plot(range(len(testY_reshaped_inv)), testY_reshaped_inv[:,2], label='GPS line stop')\n",
    "plt.plot(range(len(testPredict_reshaped_inv)), testPredict_reshaped_inv[:,2], label='Predict line stop')\n",
    "plt.title('Test Cluster -stop')\n",
    "\n",
    "plt.legend() \n",
    "\n",
    "# plt.savefig(\"C:/Users/Hailin/OneDrive/ドキュメント/熊大関連/尼崎研/EV-Bus/evBus-main/evBus-main/Conv-LSTM/ConvLSTM-verson04-lati.svg\", format=\"svg\")\n",
    "plt.show()"
   ]
  },
  {
   "cell_type": "code",
   "execution_count": 84,
   "metadata": {},
   "outputs": [
    {
     "name": "stdout",
     "output_type": "stream",
     "text": [
      "(20, 60, 1, 3, 1)\n"
     ]
    }
   ],
   "source": [
    "st = 320\n",
    "ed = 340\n",
    "testX_re2 = testX_re[st:ed]\n",
    "testY_re2 = testY_re[st:ed]\n",
    "print(testX_re2.shape)"
   ]
  },
  {
   "cell_type": "code",
   "execution_count": 85,
   "metadata": {},
   "outputs": [],
   "source": [
    "testPredict2 = model.predict(testX_re2)"
   ]
  },
  {
   "cell_type": "code",
   "execution_count": 88,
   "metadata": {},
   "outputs": [
    {
     "name": "stdout",
     "output_type": "stream",
     "text": [
      "(20, 1, 1, 3, 1)\n"
     ]
    }
   ],
   "source": [
    "print(testPredict2.shape)"
   ]
  },
  {
   "cell_type": "code",
   "execution_count": 86,
   "metadata": {},
   "outputs": [],
   "source": [
    "testPredict_reshaped2 = testPredict2.reshape((-1,3))\n",
    "testY_reshaped2 = testY_re2.reshape((-1,3))\n",
    "testPredict_reshaped_inv2 = scaler.inverse_transform(testPredict_reshaped2)\n",
    "testY_reshaped_inv2 = scaler.inverse_transform(testY_reshaped2)"
   ]
  },
  {
   "cell_type": "code",
   "execution_count": 87,
   "metadata": {},
   "outputs": [
    {
     "data": {
      "image/png": "[encoded data removed]",
      "text/plain": [
       "<Figure size 432x288 with 1 Axes>"
      ]
     },
     "metadata": {
      "needs_background": "light"
     },
     "output_type": "display_data"
    }
   ],
   "source": [
    "plt.plot(range(len(testY_reshaped_inv2)), testY_reshaped_inv2[:,2], label='GPS line stop')\n",
    "plt.plot(range(len(testPredict_reshaped_inv2)), testPredict_reshaped_inv2[:,2], label='Predict line stop')\n",
    "plt.title('Test Cluster -stop')\n",
    "\n",
    "plt.legend() \n",
    "\n",
    "# plt.savefig(\"C:/Users/Hailin/OneDrive/ドキュメント/熊大関連/尼崎研/EV-Bus/evBus-main/evBus-main/Conv-LSTM/ConvLSTM-verson04-lati.svg\", format=\"svg\")\n",
    "plt.show()"
   ]
  },
  {
   "cell_type": "code",
   "execution_count": 24,
   "metadata": {},
   "outputs": [
    {
     "name": "stdout",
     "output_type": "stream",
     "text": [
      "1.8841756e-05\n",
      "8.813733e-06\n"
     ]
    }
   ],
   "source": [
    "import numpy as np\n",
    "def mean_absolute_percentage_error(y_true, y_pred): \n",
    "    y_true, y_pred = np.array(y_true), np.array(y_pred) \n",
    "    return np.mean(np.abs((y_true - y_pred)/y_true))\n",
    "\n",
    "error_lat = mean_absolute_percentage_error(testY_reshaped_inv[:,0], testPredict_reshaped_inv[:,0])\n",
    "error_lon = mean_absolute_percentage_error(testY_reshaped_inv[:,1], testPredict_reshaped_inv[:,1])\n",
    "print(error_lat)\n",
    "print(error_lon)"
   ]
  },
  {
   "cell_type": "code",
   "execution_count": 25,
   "metadata": {},
   "outputs": [
    {
     "name": "stdout",
     "output_type": "stream",
     "text": [
      "(1597, 3)\n",
      "[0.6479492  0.13110352 0.        ]\n"
     ]
    }
   ],
   "source": [
    "print(test.shape)\n",
    "print(test[0])"
   ]
  },
  {
   "cell_type": "code",
   "execution_count": 30,
   "metadata": {},
   "outputs": [],
   "source": [
    "import numpy as np\n",
    "start = 400\n",
    "sheed = np.reshape(test[start:start+60], (1, 60, 1, 3, 1))\n",
    "# prediction = sheed\n",
    "\n",
    "# for i in range(70):\n",
    "prediction = model.predict(sheed)\n",
    "# sheed = np.concatenate((sheed[:, 15:, :, :, :], res), axis=1)\n",
    "# prediction = np.concatenate((prediction, res), axis=1)"
   ]
  },
  {
   "cell_type": "code",
   "execution_count": 31,
   "metadata": {},
   "outputs": [
    {
     "name": "stdout",
     "output_type": "stream",
     "text": [
      "(1, 1, 1, 3, 1)\n"
     ]
    }
   ],
   "source": [
    "print(prediction.shape)"
   ]
  },
  {
   "cell_type": "code",
   "execution_count": 33,
   "metadata": {},
   "outputs": [
    {
     "name": "stdout",
     "output_type": "stream",
     "text": [
      "(1, 1, 3, 1)\n",
      "[[[0.55700225]\n",
      "  [0.38348374]\n",
      "  [0.        ]]]\n"
     ]
    }
   ],
   "source": [
    "prediction = numpy.squeeze(prediction,axis=0)\n",
    "print(prediction.shape)\n",
    "print(prediction[0])"
   ]
  },
  {
   "cell_type": "code",
   "execution_count": 34,
   "metadata": {},
   "outputs": [
    {
     "name": "stdout",
     "output_type": "stream",
     "text": [
      "(1, 3, 1)\n",
      "[[0.55700225]\n",
      " [0.38348374]\n",
      " [0.        ]]\n"
     ]
    }
   ],
   "source": [
    "prediction = numpy.squeeze(prediction,axis=0)\n",
    "print(prediction.shape)\n",
    "print(prediction[0])"
   ]
  },
  {
   "cell_type": "code",
   "execution_count": 35,
   "metadata": {},
   "outputs": [
    {
     "name": "stdout",
     "output_type": "stream",
     "text": [
      "(1, 3)\n",
      "[0.55700225 0.38348374 0.        ]\n"
     ]
    }
   ],
   "source": [
    "prediction = numpy.squeeze(prediction,axis=2)\n",
    "print(prediction.shape)\n",
    "print(prediction[0])"
   ]
  },
  {
   "cell_type": "code",
   "execution_count": 36,
   "metadata": {},
   "outputs": [
    {
     "name": "stdout",
     "output_type": "stream",
     "text": [
      "[0.5508423  0.34106445 0.        ]\n",
      "[0.55700225 0.38348374 0.        ]\n"
     ]
    }
   ],
   "source": [
    "test_re2 = scaler.inverse_transform(test)\n",
    "prediction_re2 = scaler.inverse_transform(prediction)\n",
    "print(test[start])\n",
    "print(prediction[0])"
   ]
  },
  {
   "cell_type": "code",
   "execution_count": 37,
   "metadata": {},
   "outputs": [
    {
     "name": "stdout",
     "output_type": "stream",
     "text": [
      "[ 35.44612 139.6483    0.     ]\n",
      "[ 35.448036 139.64777    0.      ]\n",
      "1\n"
     ]
    }
   ],
   "source": [
    "print(test_re2[start+90])\n",
    "print(prediction_re2[0])\n",
    "print(len(prediction_re2))"
   ]
  },
  {
   "cell_type": "code",
   "execution_count": 43,
   "metadata": {},
   "outputs": [
    {
     "data": {
      "image/png": "[encoded data removed]",
      "text/plain": [
       "<Figure size 1152x720 with 1 Axes>"
      ]
     },
     "metadata": {
      "needs_background": "light"
     },
     "output_type": "display_data"
    }
   ],
   "source": [
    "plt.plot(range(91), test_re2[0:91,0], label='GPS line lat')\n",
    "plt.plot(90, prediction_re2[:,0], label='Predict line lat')\n",
    "plt.scatter(90, prediction_re2[:,0], label='Predict line lon', alpha=0.6, s=10, marker=\"x\")\n",
    "\n",
    "plt.title('Test Cluster -latitude')\n",
    "\n",
    "plt.legend() \n",
    "\n",
    "# plt.savefig(\"C:/Users/Hailin/OneDrive/ドキュメント/熊大関連/尼崎研/EV-Bus/evBus-main/evBus-main/Conv-LSTM/ConvLSTM-verson01-lati.svg\", format=\"svg\")\n",
    "plt.show()"
   ]
  },
  {
   "cell_type": "code",
   "execution_count": 58,
   "metadata": {},
   "outputs": [
    {
     "data": {
      "image/png": "[encoded data removed]",
      "text/plain": [
       "<Figure size 1152x720 with 1 Axes>"
      ]
     },
     "metadata": {
      "needs_background": "light"
     },
     "output_type": "display_data"
    }
   ],
   "source": [
    "plt.scatter(range(len(prediction_re2)), test_re2[start:start+len(prediction_re2),1], label='GPS line lon', alpha=0.6, s=10)\n",
    "plt.scatter(range(len(prediction_re2)), prediction_re2[:,1], label='Predict line lon', alpha=0.6, s=10)\n",
    "plt.title('Test Cluster -lontitude')\n",
    "\n",
    "plt.legend() \n",
    "\n",
    "# plt.savefig(\"C:/Users/Hailin/OneDrive/ドキュメント/熊大関連/尼崎研/EV-Bus/evBus-main/evBus-main/Conv-LSTM/ConvLSTM-verson01-lati.svg\", format=\"svg\")\n",
    "plt.show()"
   ]
  },
  {
   "cell_type": "code",
   "execution_count": null,
   "metadata": {},
   "outputs": [],
   "source": []
  }
 ],
 "metadata": {
  "kernelspec": {
   "display_name": "Python 3",
   "language": "python",
   "name": "python3"
  },
  "language_info": {
   "codemirror_mode": {
    "name": "ipython",
    "version": 3
   },
   "file_extension": ".py",
   "mimetype": "text/x-python",
   "name": "python",
   "nbconvert_exporter": "python",
   "pygments_lexer": "ipython3",
   "version": "3.7.9"
  }
 },
 "nbformat": 4,
 "nbformat_minor": 4
}
