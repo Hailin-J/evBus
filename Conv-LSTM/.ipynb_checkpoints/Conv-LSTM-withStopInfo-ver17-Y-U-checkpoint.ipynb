{
 "cells": [
  {
   "cell_type": "code",
   "execution_count": 1,
   "metadata": {},
   "outputs": [
    {
     "name": "stdout",
     "output_type": "stream",
     "text": [
      "numpy ver.: 1.19.1\n",
      "pandas ver.: 1.1.3\n",
      "tensorflow ver.: 2.2.0\n",
      "keras ver.: 2.4.3\n"
     ]
    }
   ],
   "source": [
    "import numpy\n",
    "import matplotlib.pyplot as plt\n",
    "import pandas\n",
    "import math\n",
    "\n",
    "from sklearn.preprocessing import MinMaxScaler\n",
    "from sklearn.metrics import mean_squared_error\n",
    "\n",
    "import tensorflow as tf\n",
    "import keras\n",
    "\n",
    "from keras.models import Sequential\n",
    "from keras.layers import *\n",
    "from keras.layers.wrappers import *\n",
    "from keras.optimizers import RMSprop\n",
    "from keras.callbacks import CSVLogger, EarlyStopping\n",
    "# import keras.backend.tensorflow_backend as ktf\n",
    "\n",
    "plt.style.use('ggplot')\n",
    "%matplotlib inline\n",
    "plt.rcParams['axes.facecolor'] = 'w'\n",
    "plt.rcParams['axes.labelcolor'] = 'k'\n",
    "plt.rcParams['axes.edgecolor'] = 'k'\n",
    "plt.rcParams['ytick.color'] = 'k'\n",
    "plt.rcParams['xtick.color'] = 'k'\n",
    "plt.rcParams['grid.color'] = (.7, .7, .7, 0)\n",
    "plt.rcParams['figure.figsize'] = (16, 10)\n",
    "\n",
    "print('numpy ver.: ' + numpy.__version__)\n",
    "print('pandas ver.: ' + pandas.__version__)\n",
    "print('tensorflow ver.: ' + tf.__version__) \n",
    "print('keras ver.: ' + keras.__version__)\n",
    "#データ読み込み\n",
    "dataframe = pandas.read_csv('~/Evbus/evBus/1589-stop.csv', usecols=[0,1,2], engine='python', skipfooter=1)\n",
    "\n",
    "config = tf.compat.v1.ConfigProto()\n",
    "config.gpu_options.per_process_gpu_memory_fraction = 0.3\n",
    "session = tf.compat.v1.Session(config=config)"
   ]
  },
  {
   "cell_type": "code",
   "execution_count": 2,
   "metadata": {},
   "outputs": [],
   "source": [
    "dataframe[\"lat\"] = dataframe[\"lat\"].map(lambda x: x-35)\n",
    "dataframe[\"lon\"] = dataframe[\"lon\"].map(lambda x: x-139)\n",
    "dataframe = dataframe.round(10)"
   ]
  },
  {
   "cell_type": "code",
   "execution_count": 3,
   "metadata": {},
   "outputs": [
    {
     "name": "stdout",
     "output_type": "stream",
     "text": [
      "<bound method NDFrame.head of             lat       lon  stop\n",
      "0      0.459276  0.608063     0\n",
      "1      0.459276  0.608063     0\n",
      "2      0.459276  0.608063     0\n",
      "3      0.459276  0.608063     0\n",
      "4      0.459276  0.608063     0\n",
      "...         ...       ...   ...\n",
      "86394  0.459607  0.608588     0\n",
      "86395  0.459607  0.608588     0\n",
      "86396  0.459607  0.608588     0\n",
      "86397  0.459607  0.608588     0\n",
      "86398  0.459607  0.608588     0\n",
      "\n",
      "[86399 rows x 3 columns]>\n"
     ]
    }
   ],
   "source": [
    "print(dataframe.head)"
   ]
  },
  {
   "cell_type": "code",
   "execution_count": 4,
   "metadata": {},
   "outputs": [
    {
     "name": "stdout",
     "output_type": "stream",
     "text": [
      "[0.4592765 0.6080628 0.       ]\n"
     ]
    }
   ],
   "source": [
    "dataset = dataframe.values\n",
    "dataset = dataset.astype('float64')\n",
    "print(dataset[0])"
   ]
  },
  {
   "cell_type": "code",
   "execution_count": 5,
   "metadata": {},
   "outputs": [
    {
     "name": "stdout",
     "output_type": "stream",
     "text": [
      "2561\n",
      "2446\n",
      "2426\n",
      "1226\n"
     ]
    }
   ],
   "source": [
    "dataset_1 = dataset[25243:27804]\n",
    "dataset_2 = dataset[31047:33493]\n",
    "dataset_3 = dataset[38359:40785]\n",
    "print(len(dataset_1))\n",
    "print(len(dataset_2))\n",
    "print(len(dataset_3))\n",
    "\n",
    "\n",
    "# normalize the dataset\n",
    "scaler = MinMaxScaler(feature_range=(0, 1))\n",
    "dataset_1 = scaler.fit_transform(dataset_1)\n",
    "dataset_2 = scaler.fit_transform(dataset_2)\n",
    "dataset_3 = scaler.fit_transform(dataset_3)\n",
    "\n",
    "dataset3 = dataset_3[0:1200]\n",
    "test = dataset_3[1200:]\n",
    "# # split into train and test sets\n",
    "# train_size = int(len(dataset_real) * 0.67)\n",
    "# test_size = len(dataset_real) - train_size\n",
    "# train, test = dataset_real[0:train_size,:], dataset_real[train_size:len(dataset_real),:]\n",
    "print(len(test))"
   ]
  },
  {
   "cell_type": "code",
   "execution_count": 6,
   "metadata": {},
   "outputs": [
    {
     "name": "stdout",
     "output_type": "stream",
     "text": [
      "[0.4592765 0.6080628 0.       ]\n"
     ]
    }
   ],
   "source": [
    "print(dataset[0])"
   ]
  },
  {
   "cell_type": "code",
   "execution_count": 7,
   "metadata": {},
   "outputs": [
    {
     "name": "stdout",
     "output_type": "stream",
     "text": [
      "(2561, 3)\n",
      "[0.99919749 0.01351687 1.        ]\n"
     ]
    }
   ],
   "source": [
    "print(dataset_1.shape)\n",
    "print(dataset_1[0])"
   ]
  },
  {
   "cell_type": "code",
   "execution_count": 9,
   "metadata": {},
   "outputs": [
    {
     "name": "stdout",
     "output_type": "stream",
     "text": [
      "(2479, 3, 30)\n",
      "(2479, 3, 1)\n",
      "(2364, 3, 30)\n",
      "(2364, 3, 1)\n",
      "(1118, 3, 30)\n",
      "(1118, 3, 1)\n"
     ]
    }
   ],
   "source": [
    "# convert an array of values into a dataset matrix\n",
    "# if you give look_back 3, a part of the array will be like this: Jan, Feb, Mar\n",
    "def create_dataset(dataset, look_back=1, look_forward=1, t=1, step=1):\n",
    "    dataX, dataY = [], []\n",
    "    for i in range(0, (len(dataset)-look_back-look_forward-t-1), 1):\n",
    "        xset, yset = [], []\n",
    "        for j in range(dataset.shape[1]):\n",
    "            a = dataset[i:(i+look_back):step, j]\n",
    "            xset.append(a)\n",
    "        for j in range(dataset.shape[1]):\n",
    "            b = dataset[(i+look_back+t):(look_forward+look_back+t+i), j]\n",
    "            yset.append(b)\n",
    "        dataX.append(xset)\n",
    "        dataY.append(yset)\n",
    "    return numpy.array(dataX), numpy.array(dataY)\n",
    "\n",
    "# use look_back --> predict look_forward after t seconds\n",
    "look_back = 60     # number for real time(sec)\n",
    "look_forward = 1   # number for real time(sec) \n",
    "t = 20              # time lag\n",
    "step = 2           # extention variable\n",
    "\n",
    "trainX_1, trainY_1 = create_dataset(dataset_1, look_back, look_forward, t, step)\n",
    "trainX_2, trainY_2 = create_dataset(dataset_2, look_back, look_forward, t, step)\n",
    "trainX_3, trainY_3 = create_dataset(dataset3, look_back, look_forward, t, step)\n",
    "\n",
    "testX, testY = create_dataset(test, look_back, look_forward, t, step)\n",
    "print(trainX_1.shape)\n",
    "print(trainY_1.shape)\n",
    "print(trainX_2.shape)\n",
    "print(trainY_2.shape)\n",
    "print(trainX_3.shape)\n",
    "print(trainY_3.shape)"
   ]
  },
  {
   "cell_type": "code",
   "execution_count": 10,
   "metadata": {},
   "outputs": [
    {
     "name": "stdout",
     "output_type": "stream",
     "text": [
      "(4843, 3, 30)\n",
      "(4843, 3, 1)\n"
     ]
    }
   ],
   "source": [
    "# concatenate test\n",
    "trainX_12 = numpy.concatenate((trainX_1, trainX_2), axis=0)\n",
    "trainY_12 = numpy.concatenate((trainY_1, trainY_2), axis=0)\n",
    "print(trainX_12.shape)\n",
    "print(trainY_12.shape)"
   ]
  },
  {
   "cell_type": "code",
   "execution_count": 11,
   "metadata": {},
   "outputs": [
    {
     "name": "stdout",
     "output_type": "stream",
     "text": [
      "(5961, 3, 30)\n",
      "(5961, 3, 1)\n"
     ]
    }
   ],
   "source": [
    "trainX = numpy.concatenate((trainX_12,trainX_3), axis=0)\n",
    "trainY = numpy.concatenate((trainY_12,trainY_3), axis=0)\n",
    "print(trainX.shape)\n",
    "print(trainY.shape)"
   ]
  },
  {
   "cell_type": "code",
   "execution_count": 12,
   "metadata": {},
   "outputs": [
    {
     "name": "stdout",
     "output_type": "stream",
     "text": [
      "(1144, 3, 30)\n",
      "(1144, 3, 1)\n"
     ]
    }
   ],
   "source": [
    "print(testX.shape)\n",
    "print(testY.shape)"
   ]
  },
  {
   "cell_type": "code",
   "execution_count": 13,
   "metadata": {},
   "outputs": [
    {
     "name": "stdout",
     "output_type": "stream",
     "text": [
      "(5961, 30, 3)\n",
      "(5961, 1, 3)\n",
      "(1144, 30, 3)\n",
      "(1144, 1, 3)\n"
     ]
    }
   ],
   "source": [
    "trainX_trans = trainX.transpose((0, 2, 1))\n",
    "trainY_trans = trainY.transpose((0, 2, 1))\n",
    "testX_trans = testX.transpose((0, 2, 1))\n",
    "testY_trans = testY.transpose((0, 2, 1))\n",
    "\n",
    "print(trainX_trans.shape)\n",
    "print(trainY_trans.shape)\n",
    "print(testX_trans.shape)\n",
    "print(testY_trans.shape)"
   ]
  },
  {
   "cell_type": "code",
   "execution_count": 14,
   "metadata": {},
   "outputs": [
    {
     "name": "stdout",
     "output_type": "stream",
     "text": [
      "(5961, 30, 1, 3, 1)\n",
      "(5961, 1, 1, 3, 1)\n",
      "(1144, 30, 1, 3, 1)\n",
      "(1144, 1, 1, 3, 1)\n"
     ]
    }
   ],
   "source": [
    "trainX_re = trainX_trans.reshape((trainX_trans.shape[0], trainX_trans.shape[1], 1, trainX_trans.shape[2], 1))\n",
    "trainY_re = trainY_trans.reshape((trainY_trans.shape[0], 1, 1, trainY_trans.shape[2], 1))\n",
    "testX_re = testX_trans.reshape((testX_trans.shape[0], testX_trans.shape[1], 1, testX_trans.shape[2], 1))\n",
    "testY_re = testY_trans.reshape((testY_trans.shape[0], 1, 1, testY_trans.shape[2], 1))\n",
    "\n",
    "print(trainX_re.shape)\n",
    "print(trainY_re.shape)\n",
    "print(testX_re.shape)\n",
    "print(testY_re.shape)"
   ]
  },
  {
   "cell_type": "code",
   "execution_count": 15,
   "metadata": {},
   "outputs": [
    {
     "name": "stdout",
     "output_type": "stream",
     "text": [
      "[[0.99919749]\n",
      " [0.01351687]\n",
      " [1.        ]]\n"
     ]
    }
   ],
   "source": [
    "print(trainX_re[0,0,0])"
   ]
  },
  {
   "cell_type": "code",
   "execution_count": 16,
   "metadata": {
    "scrolled": true
   },
   "outputs": [
    {
     "name": "stdout",
     "output_type": "stream",
     "text": [
      "Model: \"sequential\"\n",
      "_________________________________________________________________\n",
      "Layer (type)                 Output Shape              Param #   \n",
      "=================================================================\n",
      "batch_norm_0 (BatchNormaliza (None, 30, 1, 3, 1)       4         \n",
      "_________________________________________________________________\n",
      "conv_lstm_1 (ConvLSTM2D)     (None, 30, 1, 3, 64)      166656    \n",
      "_________________________________________________________________\n",
      "dropout_1 (Dropout)          (None, 30, 1, 3, 64)      0         \n",
      "_________________________________________________________________\n",
      "batch_norm_1 (BatchNormaliza (None, 30, 1, 3, 64)      256       \n",
      "_________________________________________________________________\n",
      "conv_lstm_3 (ConvLSTM2D)     (None, 1, 3, 64)          164096    \n",
      "_________________________________________________________________\n",
      "dropout_3 (Dropout)          (None, 1, 3, 64)          0         \n",
      "_________________________________________________________________\n",
      "batch_norm_3 (BatchNormaliza (None, 1, 3, 64)          256       \n",
      "_________________________________________________________________\n",
      "flatten (Flatten)            (None, 192)               0         \n",
      "_________________________________________________________________\n",
      "repeat_vector (RepeatVector) (None, 1, 192)            0         \n",
      "_________________________________________________________________\n",
      "reshape (Reshape)            (None, 1, 1, 3, 64)       0         \n",
      "_________________________________________________________________\n",
      "conv_lstm_4 (ConvLSTM2D)     (None, 1, 1, 3, 64)       327936    \n",
      "_________________________________________________________________\n",
      "dropout_4 (Dropout)          (None, 1, 1, 3, 64)       0         \n",
      "_________________________________________________________________\n",
      "batch_norm_4 (BatchNormaliza (None, 1, 1, 3, 64)       256       \n",
      "_________________________________________________________________\n",
      "conv_lstm_6 (ConvLSTM2D)     (None, 1, 1, 3, 64)       164096    \n",
      "_________________________________________________________________\n",
      "time_distributed (TimeDistri (None, 1, 1, 3, 1)        65        \n",
      "=================================================================\n",
      "Total params: 823,621\n",
      "Trainable params: 823,235\n",
      "Non-trainable params: 386\n",
      "_________________________________________________________________\n"
     ]
    }
   ],
   "source": [
    "# create ConvLSTM\n",
    "n_timesteps = trainX_re.shape[1]\n",
    "output_timesteps = 1\n",
    "model = Sequential()\n",
    "model.add(BatchNormalization(name = 'batch_norm_0', input_shape = (n_timesteps, trainX_re.shape[2], trainX_re.shape[3], 1)))\n",
    "model.add(ConvLSTM2D(name ='conv_lstm_1',\n",
    "                     filters = 64, kernel_size = (10, 1),                       \n",
    "                     padding = 'same', \n",
    "                     return_sequences = True,  input_shape = (n_timesteps, trainX_re.shape[2], trainX_re.shape[3], 1)))\n",
    "    \n",
    "model.add(Dropout(0.21, name = 'dropout_1'))\n",
    "model.add(BatchNormalization(name = 'batch_norm_1'))\n",
    "\n",
    "model.add(ConvLSTM2D(name ='conv_lstm_3',\n",
    "                     filters = 64, kernel_size = (5, 1), \n",
    "                     padding='same',\n",
    "                     return_sequences = False))\n",
    "    \n",
    "model.add(Dropout(0.20, name = 'dropout_3'))\n",
    "model.add(BatchNormalization(name = 'batch_norm_3'))\n",
    "    \n",
    "model.add(Flatten())\n",
    "model.add(RepeatVector(output_timesteps))\n",
    "model.add(Reshape((output_timesteps, 1, 3, 64)))\n",
    "\n",
    "model.add(ConvLSTM2D(name ='conv_lstm_4',\n",
    "                     filters = 64, kernel_size = (10, 1), \n",
    "                     padding='same',\n",
    "                     return_sequences = True))\n",
    "    \n",
    "model.add(Dropout(0.1, name = 'dropout_4'))\n",
    "model.add(BatchNormalization(name = 'batch_norm_4'))\n",
    "\n",
    "    \n",
    "model.add(ConvLSTM2D(name ='conv_lstm_6',\n",
    "                     filters = 64, kernel_size = (5, 1), \n",
    "                     padding='same',\n",
    "                     return_sequences = True))\n",
    "    \n",
    "model.add(TimeDistributed(Dense(units=1, name = 'dense_1', activation = 'tanh')))\n",
    "#model.add(Dense(units=1, name = 'dense_2'))\n",
    "\n",
    "# optimizer = RMSprop() #lr=0.0001, rho=0.9, epsilon=1e-08, decay=0.9)\n",
    "model.compile(loss = \"mse\", optimizer='adam', metrics=['mae', 'mape'])\n",
    "model.summary()\n",
    "# model.compile(loss='mean_squared_error', optimizer='adam', metrics=['mae', 'mape'])\n",
    "# model.fit(trainX_re, trainY_re, epochs=150, batch_size=64)"
   ]
  },
  {
   "cell_type": "code",
   "execution_count": 17,
   "metadata": {
    "scrolled": true
   },
   "outputs": [
    {
     "name": "stdout",
     "output_type": "stream",
     "text": [
      "Epoch 1/40\n",
      "84/84 [==============================] - 46s 552ms/step - loss: 0.0920 - mae: 0.2068 - mape: 56842788.0000 - val_loss: 0.1231 - val_mae: 0.2573 - val_mape: 29880974.0000\n",
      "Epoch 2/40\n",
      "84/84 [==============================] - 47s 554ms/step - loss: 0.0709 - mae: 0.1749 - mape: 53084880.0000 - val_loss: 0.0974 - val_mae: 0.2382 - val_mape: 49844676.0000\n",
      "Epoch 3/40\n",
      "84/84 [==============================] - 46s 546ms/step - loss: 0.0665 - mae: 0.1696 - mape: 50088788.0000 - val_loss: 0.0779 - val_mae: 0.2243 - val_mape: 61173288.0000\n",
      "Epoch 4/40\n",
      "84/84 [==============================] - 46s 549ms/step - loss: 0.0647 - mae: 0.1704 - mape: 49073780.0000 - val_loss: 0.0575 - val_mae: 0.2053 - val_mape: 76399520.0000\n",
      "Epoch 5/40\n",
      "84/84 [==============================] - 46s 546ms/step - loss: 0.0627 - mae: 0.1667 - mape: 47584952.0000 - val_loss: 0.0464 - val_mae: 0.1617 - val_mape: 69264712.0000\n",
      "Epoch 6/40\n",
      "84/84 [==============================] - 46s 547ms/step - loss: 0.0614 - mae: 0.1631 - mape: 46702532.0000 - val_loss: 0.0419 - val_mae: 0.1305 - val_mape: 41410972.0000\n",
      "Epoch 7/40\n",
      "84/84 [==============================] - 46s 548ms/step - loss: 0.0606 - mae: 0.1621 - mape: 46511540.0000 - val_loss: 0.0485 - val_mae: 0.1525 - val_mape: 32494046.0000\n",
      "Epoch 8/40\n",
      "84/84 [==============================] - 46s 546ms/step - loss: 0.0599 - mae: 0.1616 - mape: 47263328.0000 - val_loss: 0.0484 - val_mae: 0.1239 - val_mape: 27887476.0000\n",
      "Epoch 9/40\n",
      "84/84 [==============================] - 46s 544ms/step - loss: 0.0590 - mae: 0.1596 - mape: 45784448.0000 - val_loss: 0.0419 - val_mae: 0.1132 - val_mape: 23235488.0000\n",
      "Epoch 10/40\n",
      "84/84 [==============================] - 46s 549ms/step - loss: 0.0577 - mae: 0.1574 - mape: 46038752.0000 - val_loss: 0.0468 - val_mae: 0.1644 - val_mape: 62695204.0000\n",
      "Epoch 11/40\n",
      "84/84 [==============================] - 46s 548ms/step - loss: 0.0593 - mae: 0.1607 - mape: 46237824.0000 - val_loss: 0.0621 - val_mae: 0.1986 - val_mape: 90127048.0000\n",
      "Epoch 12/40\n",
      "84/84 [==============================] - 46s 551ms/step - loss: 0.0584 - mae: 0.1578 - mape: 45852480.0000 - val_loss: 0.0532 - val_mae: 0.1787 - val_mape: 78424600.0000\n",
      "Epoch 13/40\n",
      "84/84 [==============================] - 46s 550ms/step - loss: 0.0564 - mae: 0.1544 - mape: 44861620.0000 - val_loss: 0.0564 - val_mae: 0.1886 - val_mape: 82326808.0000\n",
      "Epoch 14/40\n",
      "84/84 [==============================] - 46s 544ms/step - loss: 0.0565 - mae: 0.1552 - mape: 44692828.0000 - val_loss: 0.0567 - val_mae: 0.1836 - val_mape: 87200424.0000\n",
      "Epoch 15/40\n",
      "84/84 [==============================] - 46s 548ms/step - loss: 0.0553 - mae: 0.1515 - mape: 43847400.0000 - val_loss: 0.0515 - val_mae: 0.1707 - val_mape: 78847208.0000\n",
      "Epoch 16/40\n",
      "84/84 [==============================] - 46s 544ms/step - loss: 0.0541 - mae: 0.1488 - mape: 43459584.0000 - val_loss: 0.0847 - val_mae: 0.2208 - val_mape: 121018552.0000\n",
      "Epoch 17/40\n",
      "84/84 [==============================] - 46s 547ms/step - loss: 0.0537 - mae: 0.1483 - mape: 42563280.0000 - val_loss: 0.0404 - val_mae: 0.1379 - val_mape: 55196484.0000\n",
      "Epoch 18/40\n",
      "84/84 [==============================] - 46s 548ms/step - loss: 0.0538 - mae: 0.1490 - mape: 42400756.0000 - val_loss: 0.0953 - val_mae: 0.2160 - val_mape: 136290864.0000\n",
      "Epoch 19/40\n",
      "84/84 [==============================] - 46s 546ms/step - loss: 0.0518 - mae: 0.1458 - mape: 40964236.0000 - val_loss: 0.1010 - val_mae: 0.2267 - val_mape: 145362048.0000\n",
      "Epoch 20/40\n",
      "84/84 [==============================] - 46s 546ms/step - loss: 0.0513 - mae: 0.1450 - mape: 40326372.0000 - val_loss: 0.0711 - val_mae: 0.1829 - val_mape: 113285304.0000\n",
      "Epoch 21/40\n",
      "84/84 [==============================] - 46s 551ms/step - loss: 0.0506 - mae: 0.1425 - mape: 41216384.0000 - val_loss: 0.0855 - val_mae: 0.1882 - val_mape: 130410512.0000\n",
      "Epoch 22/40\n",
      "84/84 [==============================] - 46s 548ms/step - loss: 0.0501 - mae: 0.1404 - mape: 39920436.0000 - val_loss: 0.1059 - val_mae: 0.2194 - val_mape: 149513280.0000\n",
      "Epoch 23/40\n",
      "84/84 [==============================] - 46s 548ms/step - loss: 0.0501 - mae: 0.1413 - mape: 39154284.0000 - val_loss: 0.0369 - val_mae: 0.1211 - val_mape: 62024032.0000\n",
      "Epoch 24/40\n",
      "84/84 [==============================] - 46s 543ms/step - loss: 0.0484 - mae: 0.1373 - mape: 38880444.0000 - val_loss: 0.0602 - val_mae: 0.1603 - val_mape: 105136960.0000\n",
      "Epoch 25/40\n",
      "84/84 [==============================] - 46s 543ms/step - loss: 0.0477 - mae: 0.1350 - mape: 38085148.0000 - val_loss: 0.0506 - val_mae: 0.1550 - val_mape: 90754560.0000\n",
      "Epoch 26/40\n",
      "84/84 [==============================] - 45s 537ms/step - loss: 0.0475 - mae: 0.1354 - mape: 38965616.0000 - val_loss: 0.0534 - val_mae: 0.1504 - val_mape: 92617024.0000\n",
      "Epoch 27/40\n",
      "84/84 [==============================] - 45s 532ms/step - loss: 0.0471 - mae: 0.1362 - mape: 38030456.0000 - val_loss: 0.0728 - val_mae: 0.1656 - val_mape: 115992520.0000\n",
      "Epoch 28/40\n",
      "84/84 [==============================] - 45s 537ms/step - loss: 0.0459 - mae: 0.1317 - mape: 37478860.0000 - val_loss: 0.0783 - val_mae: 0.1784 - val_mape: 124251144.0000\n",
      "Epoch 29/40\n",
      "84/84 [==============================] - 45s 535ms/step - loss: 0.0441 - mae: 0.1269 - mape: 37316224.0000 - val_loss: 0.0959 - val_mae: 0.1850 - val_mape: 142812080.0000\n",
      "Epoch 30/40\n",
      "84/84 [==============================] - 45s 534ms/step - loss: 0.0441 - mae: 0.1292 - mape: 36426980.0000 - val_loss: 0.0606 - val_mae: 0.1561 - val_mape: 99965840.0000\n",
      "Epoch 31/40\n",
      "84/84 [==============================] - 45s 534ms/step - loss: 0.0428 - mae: 0.1260 - mape: 35772700.0000 - val_loss: 0.1153 - val_mae: 0.2159 - val_mape: 172740272.0000\n",
      "Epoch 32/40\n",
      "84/84 [==============================] - 45s 535ms/step - loss: 0.0435 - mae: 0.1253 - mape: 36808356.0000 - val_loss: 0.0430 - val_mae: 0.1281 - val_mape: 77855408.0000\n",
      "Epoch 33/40\n",
      "84/84 [==============================] - 45s 532ms/step - loss: 0.0428 - mae: 0.1216 - mape: 35548156.0000 - val_loss: 0.0893 - val_mae: 0.1721 - val_mape: 136175616.0000\n",
      "Epoch 34/40\n",
      "84/84 [==============================] - 45s 533ms/step - loss: 0.0412 - mae: 0.1203 - mape: 36077012.0000 - val_loss: 0.0625 - val_mae: 0.1531 - val_mape: 107602928.0000\n",
      "Epoch 35/40\n",
      "84/84 [==============================] - 45s 536ms/step - loss: 0.0412 - mae: 0.1196 - mape: 35563800.0000 - val_loss: 0.0824 - val_mae: 0.1718 - val_mape: 133312104.0000\n",
      "Epoch 36/40\n",
      "84/84 [==============================] - 45s 530ms/step - loss: 0.0408 - mae: 0.1201 - mape: 34552532.0000 - val_loss: 0.0328 - val_mae: 0.1022 - val_mape: 34029480.0000\n",
      "Epoch 37/40\n",
      "84/84 [==============================] - 45s 536ms/step - loss: 0.0399 - mae: 0.1193 - mape: 34357112.0000 - val_loss: 0.0327 - val_mae: 0.1058 - val_mape: 40905228.0000\n",
      "Epoch 38/40\n",
      "84/84 [==============================] - 45s 534ms/step - loss: 0.0388 - mae: 0.1177 - mape: 33171944.0000 - val_loss: 0.0350 - val_mae: 0.0745 - val_mape: 8246964.5000\n",
      "Epoch 39/40\n",
      "84/84 [==============================] - 45s 534ms/step - loss: 0.0396 - mae: 0.1178 - mape: 34841656.0000 - val_loss: 0.0334 - val_mae: 0.1029 - val_mape: 53182520.0000\n",
      "Epoch 40/40\n",
      "84/84 [==============================] - 47s 558ms/step - loss: 0.0386 - mae: 0.1147 - mape: 33569768.0000 - val_loss: 0.0354 - val_mae: 0.1114 - val_mape: 56924860.0000\n"
     ]
    },
    {
     "data": {
      "text/plain": [
       "<tensorflow.python.keras.callbacks.History at 0x7f463baa92d0>"
      ]
     },
     "execution_count": 17,
     "metadata": {},
     "output_type": "execute_result"
    }
   ],
   "source": [
    "model.compile(loss='mean_squared_error', optimizer='adam', metrics=['mae', 'mape'])\n",
    "model.fit(trainX_re, trainY_re, epochs=40, validation_split=0.1, shuffle=False, batch_size=64)"
   ]
  },
  {
   "cell_type": "code",
   "execution_count": 18,
   "metadata": {},
   "outputs": [],
   "source": [
    "# model.save('C:/Users/Hailin/OneDrive/ドキュメント/熊大関連/尼崎研/EV-Bus/evBus-main/evBus-main/Conv-LSTM-withStopInfo-ver15-Y-U.h5')\n",
    "# model.save('C:/Users/kinkr/OneDrive/ドキュメント/熊大関連/尼崎研/EV-Bus/evBus-main/evBus-main/ConvLSTM_train70_version04.h5')\n",
    "model.save('/user/arch/jin/Evbus/evBus/Conv-LSTM-withStopInfo-ver17-Y-U.h5')"
   ]
  },
  {
   "cell_type": "code",
   "execution_count": 19,
   "metadata": {},
   "outputs": [],
   "source": [
    "model = tf.keras.models.load_model('C:/Users/hailin/OneDrive/ドキュメント/熊大関連/尼崎研/EV-Bus/evBus-main/evBus-main/Conv-LSTM-withStopInfo-ver15-Y-U.h5')"
   ]
  },
  {
   "cell_type": "code",
   "execution_count": 19,
   "metadata": {},
   "outputs": [
    {
     "name": "stdout",
     "output_type": "stream",
     "text": [
      "(1144, 30, 3)\n",
      "(1144, 1, 3)\n",
      "[[[0.5735277 ]\n",
      "  [0.29520932]\n",
      "  [0.        ]]]\n"
     ]
    }
   ],
   "source": [
    "print(testX_trans.shape)\n",
    "print(testY_trans.shape)\n",
    "print(testX_re[0,0])"
   ]
  },
  {
   "cell_type": "code",
   "execution_count": 20,
   "metadata": {},
   "outputs": [],
   "source": [
    "testPredict = model.predict(testX_re)"
   ]
  },
  {
   "cell_type": "code",
   "execution_count": 21,
   "metadata": {},
   "outputs": [
    {
     "name": "stdout",
     "output_type": "stream",
     "text": [
      "(1144, 1, 1, 3, 1)\n",
      "[[0.6289494 ]\n",
      " [0.40862924]\n",
      " [0.12961443]]\n"
     ]
    }
   ],
   "source": [
    "print(testPredict.shape)\n",
    "print(testPredict[0,0,0])"
   ]
  },
  {
   "cell_type": "code",
   "execution_count": 22,
   "metadata": {},
   "outputs": [
    {
     "name": "stdout",
     "output_type": "stream",
     "text": [
      "(1144, 3)\n",
      "(1144, 3)\n",
      "<class 'numpy.ndarray'>\n"
     ]
    }
   ],
   "source": [
    "testPredict_reshaped = testPredict.reshape((-1,3))\n",
    "testY_reshaped = testY_re.reshape((-1,3))\n",
    "print(testPredict_reshaped.shape)\n",
    "print(testY_reshaped.shape)\n",
    "print(type(testPredict_reshaped))"
   ]
  },
  {
   "cell_type": "code",
   "execution_count": 24,
   "metadata": {},
   "outputs": [],
   "source": [
    "# testPredict_reshaped_plus= numpy.insert(testPredict_reshaped, 2, values=1, axis=1)\n",
    "# testY_reshaped_plus = numpy.insert(testY_reshaped, 2, values=1, axis=1)\n",
    "# print(testY_reshaped.shape)\n",
    "# print(testPredict_reshaped.shape)"
   ]
  },
  {
   "cell_type": "code",
   "execution_count": 23,
   "metadata": {},
   "outputs": [],
   "source": [
    "testPredict_reshaped_inv = scaler.inverse_transform(testPredict_reshaped)\n",
    "testY_reshaped_inv = scaler.inverse_transform(testY_reshaped)"
   ]
  },
  {
   "cell_type": "code",
   "execution_count": 24,
   "metadata": {},
   "outputs": [
    {
     "name": "stdout",
     "output_type": "stream",
     "text": [
      "[0.45072085 0.64935064 0.12961443]\n",
      "[0.44723093 0.6463935  0.        ]\n"
     ]
    }
   ],
   "source": [
    "print(testPredict_reshaped_inv[0])\n",
    "print(testY_reshaped_inv[0])"
   ]
  },
  {
   "cell_type": "code",
   "execution_count": 21,
   "metadata": {},
   "outputs": [
    {
     "data": {
      "image/png": "[encoded data removed]",
      "text/plain": [
       "<Figure size 432x288 with 1 Axes>"
      ]
     },
     "metadata": {
      "needs_background": "light"
     },
     "output_type": "display_data"
    }
   ],
   "source": [
    "import matplotlib as mpl\n",
    "from mpl_toolkits.mplot3d import Axes3D\n",
    "\n",
    "mpl.rcParams['legend.fontsize'] = 10\n",
    " \n",
    "fig = plt.figure()\n",
    "ax = fig.gca(projection='3d')\n",
    "ax.plot(range(len(testY_reshaped_inv)), testY_reshaped_inv[:,0], testY_reshaped_inv[:,1], label='GPS line')\n",
    "ax.plot(range(len(testPredict_reshaped_inv)), testPredict_reshaped_inv[:,0], testPredict_reshaped_inv[:,1], label='Predict line')\n",
    "ax.set_xlabel('Time')\n",
    "ax.legend()\n",
    "plt.title('Test Cluster')\n",
    "# plt.savefig(\"C:/Users/Hailin/OneDrive/ドキュメント/熊大関連/尼崎研/EV-Bus/evBus-main/evBus-main/Conv-LSTM/ConvLSTM-verson04.svg\", format=\"svg\")\n",
    " \n",
    "plt.show()"
   ]
  },
  {
   "cell_type": "code",
   "execution_count": 25,
   "metadata": {},
   "outputs": [
    {
     "data": {
      "image/png": "[encoded data removed]",
      "text/plain": [
       "<Figure size 432x288 with 1 Axes>"
      ]
     },
     "metadata": {
      "needs_background": "light"
     },
     "output_type": "display_data"
    }
   ],
   "source": [
    "plt.plot(range(len(testY_reshaped_inv)), testY_reshaped_inv[:,0], label='GPS line lat')\n",
    "plt.plot(range(len(testPredict_reshaped_inv)), testPredict_reshaped_inv[:,0], label='Predict line lat')\n",
    "plt.title('Test Cluster -latitude')\n",
    "\n",
    "plt.legend() \n",
    "\n",
    "# plt.savefig(\"C:/Users/kinkr/OneDrive/ドキュメント/熊大関連/尼崎研/EV-Bus/evBus-main/evBus-main/Conv-LSTM/Conv-LSTM-withStopInfo-ver02-Y-U-lat.svg\", format=\"svg\")\n",
    "plt.show()"
   ]
  },
  {
   "cell_type": "code",
   "execution_count": 26,
   "metadata": {},
   "outputs": [
    {
     "data": {
      "image/png": "[encoded data removed]",
      "text/plain": [
       "<Figure size 432x288 with 1 Axes>"
      ]
     },
     "metadata": {
      "needs_background": "light"
     },
     "output_type": "display_data"
    }
   ],
   "source": [
    "plt.plot(range(len(testY_reshaped_inv)), testY_reshaped_inv[:,1], label='GPS line lon')\n",
    "plt.plot(range(len(testPredict_reshaped_inv)), testPredict_reshaped_inv[:,1], label='Predict line lon')\n",
    "plt.title('Test Cluster -lontitude')\n",
    "\n",
    "plt.legend() \n",
    "\n",
    "# plt.savefig(\"C:/Users/kinkr/OneDrive/ドキュメント/熊大関連/尼崎研/EV-Bus/evBus-main/evBus-main/Conv-LSTM/Conv-LSTM-withStopInfo-ver02-Y-U-lon.svg\", format=\"svg\")\n",
    "plt.show()"
   ]
  },
  {
   "cell_type": "code",
   "execution_count": 27,
   "metadata": {},
   "outputs": [
    {
     "data": {
      "image/png": "[encoded data removed]",
      "text/plain": [
       "<Figure size 432x288 with 1 Axes>"
      ]
     },
     "metadata": {
      "needs_background": "light"
     },
     "output_type": "display_data"
    }
   ],
   "source": [
    "plt.plot(range(len(testY_reshaped_inv)), testY_reshaped_inv[:,2], label='GPS line stop')\n",
    "plt.plot(range(len(testPredict_reshaped_inv)), testPredict_reshaped_inv[:,2], label='Predict line stop')\n",
    "plt.title('Test Cluster -stop')\n",
    "\n",
    "plt.legend() \n",
    "\n",
    "# plt.savefig(\"C:/Users/Hailin/OneDrive/ドキュメント/熊大関連/尼崎研/EV-Bus/evBus-main/evBus-main/Conv-LSTM/ConvLSTM-verson04-lati.svg\", format=\"svg\")\n",
    "plt.show()"
   ]
  },
  {
   "cell_type": "code",
   "execution_count": 33,
   "metadata": {},
   "outputs": [
    {
     "name": "stdout",
     "output_type": "stream",
     "text": [
      "(60, 30, 1, 3, 1)\n"
     ]
    }
   ],
   "source": [
    "st = 320\n",
    "ed = 380\n",
    "testX_re2 = testX_re[st:ed]\n",
    "testY_re2 = testY_re[st:ed]\n",
    "print(testX_re2.shape)"
   ]
  },
  {
   "cell_type": "code",
   "execution_count": 34,
   "metadata": {},
   "outputs": [],
   "source": [
    "testPredict2 = model.predict(testX_re2)"
   ]
  },
  {
   "cell_type": "code",
   "execution_count": 35,
   "metadata": {},
   "outputs": [
    {
     "name": "stdout",
     "output_type": "stream",
     "text": [
      "(60, 1, 1, 3, 1)\n"
     ]
    }
   ],
   "source": [
    "print(testPredict2.shape)"
   ]
  },
  {
   "cell_type": "code",
   "execution_count": 36,
   "metadata": {},
   "outputs": [],
   "source": [
    "testPredict_reshaped2 = testPredict2.reshape((-1,3))\n",
    "testY_reshaped2 = testY_re2.reshape((-1,3))\n",
    "testPredict_reshaped_inv2 = scaler.inverse_transform(testPredict_reshaped2)\n",
    "testY_reshaped_inv2 = scaler.inverse_transform(testY_reshaped2)"
   ]
  },
  {
   "cell_type": "code",
   "execution_count": 37,
   "metadata": {},
   "outputs": [
    {
     "data": {
      "image/png": "[encoded data removed]",
      "text/plain": [
       "<Figure size 432x288 with 1 Axes>"
      ]
     },
     "metadata": {
      "needs_background": "light"
     },
     "output_type": "display_data"
    }
   ],
   "source": [
    "plt.plot(range(len(testY_reshaped_inv2)), testY_reshaped_inv2[:,2], label='GPS line stop')\n",
    "plt.plot(range(len(testPredict_reshaped_inv2)), testPredict_reshaped_inv2[:,2], label='Predict line stop')\n",
    "plt.title('Test Cluster -stop')\n",
    "\n",
    "plt.legend() \n",
    "\n",
    "# plt.savefig(\"C:/Users/Hailin/OneDrive/ドキュメント/熊大関連/尼崎研/EV-Bus/evBus-main/evBus-main/Conv-LSTM/ConvLSTM-verson04-lati.svg\", format=\"svg\")\n",
    "plt.show()"
   ]
  },
  {
   "cell_type": "code",
   "execution_count": 24,
   "metadata": {},
   "outputs": [
    {
     "name": "stdout",
     "output_type": "stream",
     "text": [
      "1.8841756e-05\n",
      "8.813733e-06\n"
     ]
    }
   ],
   "source": [
    "import numpy as np\n",
    "def mean_absolute_percentage_error(y_true, y_pred): \n",
    "    y_true, y_pred = np.array(y_true), np.array(y_pred) \n",
    "    return np.mean(np.abs((y_true - y_pred)/y_true))\n",
    "\n",
    "error_lat = mean_absolute_percentage_error(testY_reshaped_inv[:,0], testPredict_reshaped_inv[:,0])\n",
    "error_lon = mean_absolute_percentage_error(testY_reshaped_inv[:,1], testPredict_reshaped_inv[:,1])\n",
    "print(error_lat)\n",
    "print(error_lon)"
   ]
  },
  {
   "cell_type": "code",
   "execution_count": 25,
   "metadata": {},
   "outputs": [
    {
     "name": "stdout",
     "output_type": "stream",
     "text": [
      "(1597, 3)\n",
      "[0.6479492  0.13110352 0.        ]\n"
     ]
    }
   ],
   "source": [
    "print(test.shape)\n",
    "print(test[0])"
   ]
  },
  {
   "cell_type": "code",
   "execution_count": 30,
   "metadata": {},
   "outputs": [],
   "source": [
    "import numpy as np\n",
    "start = 400\n",
    "sheed = np.reshape(test[start:start+60], (1, 60, 1, 3, 1))\n",
    "# prediction = sheed\n",
    "\n",
    "# for i in range(70):\n",
    "prediction = model.predict(sheed)\n",
    "# sheed = np.concatenate((sheed[:, 15:, :, :, :], res), axis=1)\n",
    "# prediction = np.concatenate((prediction, res), axis=1)"
   ]
  },
  {
   "cell_type": "code",
   "execution_count": 31,
   "metadata": {},
   "outputs": [
    {
     "name": "stdout",
     "output_type": "stream",
     "text": [
      "(1, 1, 1, 3, 1)\n"
     ]
    }
   ],
   "source": [
    "print(prediction.shape)"
   ]
  },
  {
   "cell_type": "code",
   "execution_count": 33,
   "metadata": {},
   "outputs": [
    {
     "name": "stdout",
     "output_type": "stream",
     "text": [
      "(1, 1, 3, 1)\n",
      "[[[0.55700225]\n",
      "  [0.38348374]\n",
      "  [0.        ]]]\n"
     ]
    }
   ],
   "source": [
    "prediction = numpy.squeeze(prediction,axis=0)\n",
    "print(prediction.shape)\n",
    "print(prediction[0])"
   ]
  },
  {
   "cell_type": "code",
   "execution_count": 34,
   "metadata": {},
   "outputs": [
    {
     "name": "stdout",
     "output_type": "stream",
     "text": [
      "(1, 3, 1)\n",
      "[[0.55700225]\n",
      " [0.38348374]\n",
      " [0.        ]]\n"
     ]
    }
   ],
   "source": [
    "prediction = numpy.squeeze(prediction,axis=0)\n",
    "print(prediction.shape)\n",
    "print(prediction[0])"
   ]
  },
  {
   "cell_type": "code",
   "execution_count": 35,
   "metadata": {},
   "outputs": [
    {
     "name": "stdout",
     "output_type": "stream",
     "text": [
      "(1, 3)\n",
      "[0.55700225 0.38348374 0.        ]\n"
     ]
    }
   ],
   "source": [
    "prediction = numpy.squeeze(prediction,axis=2)\n",
    "print(prediction.shape)\n",
    "print(prediction[0])"
   ]
  },
  {
   "cell_type": "code",
   "execution_count": 36,
   "metadata": {},
   "outputs": [
    {
     "name": "stdout",
     "output_type": "stream",
     "text": [
      "[0.5508423  0.34106445 0.        ]\n",
      "[0.55700225 0.38348374 0.        ]\n"
     ]
    }
   ],
   "source": [
    "test_re2 = scaler.inverse_transform(test)\n",
    "prediction_re2 = scaler.inverse_transform(prediction)\n",
    "print(test[start])\n",
    "print(prediction[0])"
   ]
  },
  {
   "cell_type": "code",
   "execution_count": 37,
   "metadata": {},
   "outputs": [
    {
     "name": "stdout",
     "output_type": "stream",
     "text": [
      "[ 35.44612 139.6483    0.     ]\n",
      "[ 35.448036 139.64777    0.      ]\n",
      "1\n"
     ]
    }
   ],
   "source": [
    "print(test_re2[start+90])\n",
    "print(prediction_re2[0])\n",
    "print(len(prediction_re2))"
   ]
  },
  {
   "cell_type": "code",
   "execution_count": 43,
   "metadata": {},
   "outputs": [
    {
     "data": {
      "image/png": "[encoded data removed]",
      "text/plain": [
       "<Figure size 1152x720 with 1 Axes>"
      ]
     },
     "metadata": {
      "needs_background": "light"
     },
     "output_type": "display_data"
    }
   ],
   "source": [
    "plt.plot(range(91), test_re2[0:91,0], label='GPS line lat')\n",
    "plt.plot(90, prediction_re2[:,0], label='Predict line lat')\n",
    "plt.scatter(90, prediction_re2[:,0], label='Predict line lon', alpha=0.6, s=10, marker=\"x\")\n",
    "\n",
    "plt.title('Test Cluster -latitude')\n",
    "\n",
    "plt.legend() \n",
    "\n",
    "# plt.savefig(\"C:/Users/Hailin/OneDrive/ドキュメント/熊大関連/尼崎研/EV-Bus/evBus-main/evBus-main/Conv-LSTM/ConvLSTM-verson01-lati.svg\", format=\"svg\")\n",
    "plt.show()"
   ]
  },
  {
   "cell_type": "code",
   "execution_count": 58,
   "metadata": {},
   "outputs": [
    {
     "data": {
      "image/png": "[encoded data removed]",
      "text/plain": [
       "<Figure size 1152x720 with 1 Axes>"
      ]
     },
     "metadata": {
      "needs_background": "light"
     },
     "output_type": "display_data"
    }
   ],
   "source": [
    "plt.scatter(range(len(prediction_re2)), test_re2[start:start+len(prediction_re2),1], label='GPS line lon', alpha=0.6, s=10)\n",
    "plt.scatter(range(len(prediction_re2)), prediction_re2[:,1], label='Predict line lon', alpha=0.6, s=10)\n",
    "plt.title('Test Cluster -lontitude')\n",
    "\n",
    "plt.legend() \n",
    "\n",
    "# plt.savefig(\"C:/Users/Hailin/OneDrive/ドキュメント/熊大関連/尼崎研/EV-Bus/evBus-main/evBus-main/Conv-LSTM/ConvLSTM-verson01-lati.svg\", format=\"svg\")\n",
    "plt.show()"
   ]
  },
  {
   "cell_type": "code",
   "execution_count": null,
   "metadata": {},
   "outputs": [],
   "source": []
  }
 ],
 "metadata": {
  "kernelspec": {
   "display_name": "Python 3",
   "language": "python",
   "name": "python3"
  },
  "language_info": {
   "codemirror_mode": {
    "name": "ipython",
    "version": 3
   },
   "file_extension": ".py",
   "mimetype": "text/x-python",
   "name": "python",
   "nbconvert_exporter": "python",
   "pygments_lexer": "ipython3",
   "version": "3.7.9"
  }
 },
 "nbformat": 4,
 "nbformat_minor": 4
}
